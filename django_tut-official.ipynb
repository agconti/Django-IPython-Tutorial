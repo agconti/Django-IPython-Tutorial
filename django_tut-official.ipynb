{
 "metadata": {
  "name": "django_tut-official"
 },
 "nbformat": 3,
 "nbformat_minor": 0,
 "worksheets": [
  {
   "cells": [
    {
     "cell_type": "markdown",
     "metadata": {},
     "source": [
      "##Django Interactive Tutorial | by Andrew Conti\n",
      "\n",
      "An interactive tutorial that guides you through creating your first Django project. This notebook goes along with the offical guide from the Django project's website. This tutorial will take you through the process of creating a basic poll application. \n",
      "\n",
      "*Unless otherwise mentioned, the narrative walking you through the project is from the `1.5` tutorial documentation from the Django Projects website. Some adjustments have been made to fit the interactive nature of this tutorial, but the vast majority of the content is theirs.* \n",
      "\n",
      "The tutorial has two parts:\n",
      "\n",
      "1. *A public site that lets people view polls and vote in them.*\n",
      "2. *An admin site that lets you add, change and delete polls.* \n",
      "\n",
      "\n",
      "Go to the Django project's website [here](https://docs.djangoproject.com/en/1.2/intro/tutorial01/#intro-tutorial01) to follow along. \n",
      "\n",
      "###First make sure you have Django Installed or install it using `pip install Django`. Test the installation with the code below:\n"
     ]
    },
    {
     "cell_type": "code",
     "collapsed": false,
     "input": [
      "import django\n",
      "print django.VERSION"
     ],
     "language": "python",
     "metadata": {},
     "outputs": [
      {
       "output_type": "stream",
       "stream": "stdout",
       "text": [
        "(1, 5, 1, 'final', 0)\n"
       ]
      }
     ],
     "prompt_number": 1
    },
    {
     "cell_type": "markdown",
     "metadata": {},
     "source": [
      "###Creating a project\n",
      "\n",
      "If this is your first time using Django, you\u2019ll have to take care of some initial setup. Namely, you\u2019ll need to auto-generate some code that establishes a Django project \u2013 a collection of settings for an instance of Django, including database configuration, Django-specific options and application-specific settings.\n",
      "\n",
      "From the command line, cd into a directory where you\u2019d like to store your code, then run the following command:"
     ]
    },
    {
     "cell_type": "code",
     "collapsed": false,
     "input": [
      "# uncomment the line below when running for the first time.  \n",
      "#!django-admin.py startproject mysite"
     ],
     "language": "python",
     "metadata": {},
     "outputs": [],
     "prompt_number": 2
    },
    {
     "cell_type": "markdown",
     "metadata": {},
     "source": [
      "This will create a mysite directory in your current directory. If it didn\u2019t work, see [Problems running django-admin.py](https://docs.djangoproject.com/en/1.5/faq/troubleshooting/#troubleshooting-django-admin-py).\n",
      "\n",
      "###Note\n",
      "You\u2019ll need to avoid naming projects after built-in Python or Django components. In particular, this means you should avoid using names like django (which will conflict with Django itself) or test (which conflicts with a built-in Python package).\n",
      "\n",
      "###Where should this code live?\n",
      "If your background is in plain old PHP (with no use of modern frameworks), you\u2019re probably used to putting code under the Web server\u2019s document root (in a place such as /var/www). With Django, you don\u2019t do that. It\u2019s not a good idea to put any of this Python code within your Web server\u2019s document root, because it risks the possibility that people may be able to view your code over the Web. That\u2019s not good for security.\n",
      "\n",
      "Put your code in some directory outside of the document root, such as /home/mycode.\n",
      "\n",
      "Let\u2019s look at what startproject created:"
     ]
    },
    {
     "cell_type": "code",
     "collapsed": false,
     "input": [
      "cd mysite\\mysite"
     ],
     "language": "python",
     "metadata": {},
     "outputs": [
      {
       "output_type": "stream",
       "stream": "stdout",
       "text": [
        "C:\\Users\\Andrew\\Documents\\Kaggle\\tutorial\\django_tut\\mysite\\mysite\n"
       ]
      }
     ],
     "prompt_number": 3
    },
    {
     "cell_type": "code",
     "collapsed": false,
     "input": [
      "ls"
     ],
     "language": "python",
     "metadata": {},
     "outputs": [
      {
       "output_type": "stream",
       "stream": "stdout",
       "text": [
        " Volume in drive C is OS\n",
        " Volume Serial Number is EA4A-2994\n",
        "\n",
        " Directory of C:\\Users\\Andrew\\Documents\\Kaggle\\tutorial\\django_tut\\mysite\\mysite\n",
        "\n",
        "07/09/2013  04:50 PM    <DIR>          .\n",
        "07/09/2013  04:50 PM    <DIR>          ..\n",
        "07/09/2013  02:09 PM                 0 __init__.py\n",
        "07/09/2013  02:22 PM               165 __init__.pyc\n",
        "07/09/2013  04:50 PM             5,577 settings.py\n",
        "07/09/2013  04:50 PM             2,978 settings.pyc\n",
        "07/09/2013  02:09 PM               556 urls.py\n",
        "07/09/2013  02:22 PM               303 urls.pyc\n",
        "07/09/2013  02:09 PM             1,419 wsgi.py\n",
        "07/09/2013  02:22 PM             1,059 wsgi.pyc\n",
        "               8 File(s)         12,057 bytes\n",
        "               2 Dir(s)  742,175,088,640 bytes free\n"
       ]
      }
     ],
     "prompt_number": 4
    },
    {
     "cell_type": "markdown",
     "metadata": {},
     "source": [
      "###The files inside are:\n",
      "\n",
      "These files are:\n",
      "\n",
      "* The outer `mysite/` root directory is just a container for your project. Its name doesn\u2019t matter to Django; you can rename it to anything you like.\n",
      "* `manage.py`: A command-line utility that lets you interact with this Django project in various ways. You can read all the details about manage.py in django-admin.py and manage.py.\n",
      "* The inner `mysite/` directory is the actual Python package for your project. Its name is the Python package name you\u2019ll need to use to import anything inside it (e.g. mysite.urls).\n",
      "* `mysite/__init__.py`: An empty file that tells Python that this directory should be considered a Python package. (Read more about packages in the official Python docs if you\u2019re a Python beginner.)\n",
      "* `mysite/settings.py`: Settings/configuration for this Django project. Django settings will tell you all about how settings work.\n",
      "* `mysite/urls.py`: The URL declarations for this Django project; a \u201ctable of contents\u201d of your Django-powered site. You can read more about URLs in URL dispatcher.\n",
      "* `mysite/wsgi.py`: An entry-point for WSGI-compatible webservers to serve your project. See How to deploy with WSGI for more details.\n",
      "\n",
      "The command line experssion:\n",
      "\n",
      "    manage.py runserver\n",
      "\n",
      "starts a server that runs on local host [http://127.0.0.1:8000/](http://127.0.0.1:8000/) for development. To keep our notebook interactive, lets run our development server as a subprocess, so it can run in the background as we continue to develop our site. After clicking this link,  [http://127.0.0.1:8000/](http://127.0.0.1:8000/),  you should see the dev server in your browser (Make sure to open a new tab). Whenever you make changes to your server it will autorestart and so it supports iterative dev process. To make things easy, we will include the comman to open the server as a background process in a function called `dev_sever` so that we can call it with ease later in the notebook."
     ]
    },
    {
     "cell_type": "code",
     "collapsed": false,
     "input": [
      "class dev_server(object):\n",
      "    def __init__(self):\n",
      "        self.server = 'no_server'\n",
      "    def start(self):\n",
      "        '''\n",
      "        starts the server\n",
      "        '''\n",
      "        import subprocess\n",
      "        self.server = subprocess.Popen([\"python\", \"manage.py\", \"runserver\"])\n",
      "        print \"Im running!\"\n",
      "    def end(self):\n",
      "        '''\n",
      "        ends the sever\n",
      "        '''\n",
      "        if self.server == 'no_server':\n",
      "            print \"there is no sever!\"\n",
      "        else:\n",
      "            self.server.terminate()\n",
      "            print \"I've Stopped.\"            "
     ],
     "language": "python",
     "metadata": {},
     "outputs": [],
     "prompt_number": 7
    },
    {
     "cell_type": "markdown",
     "metadata": {},
     "source": [
      "Lets navigate to the loaction of the `manage.py` file with `cd`:"
     ]
    },
    {
     "cell_type": "code",
     "collapsed": false,
     "input": [
      "cd .. "
     ],
     "language": "python",
     "metadata": {},
     "outputs": [
      {
       "output_type": "stream",
       "stream": "stdout",
       "text": [
        "C:\\Users\\Andrew\\Documents\\Kaggle\\tutorial\\django_tut\\mysite\n"
       ]
      }
     ],
     "prompt_number": 6
    },
    {
     "cell_type": "code",
     "collapsed": false,
     "input": [
      "dev_server = dev_server() # instantiate our object"
     ],
     "language": "python",
     "metadata": {},
     "outputs": [],
     "prompt_number": 8
    },
    {
     "cell_type": "code",
     "collapsed": false,
     "input": [
      "dev_server.start()"
     ],
     "language": "python",
     "metadata": {},
     "outputs": [
      {
       "output_type": "stream",
       "stream": "stdout",
       "text": [
        "Im running!\n"
       ]
      }
     ],
     "prompt_number": 9
    },
    {
     "cell_type": "markdown",
     "metadata": {},
     "source": [
      "Click here (make sure you open a new tab!), [http://127.0.0.1:8000/](http://127.0.0.1:8000/), to check it out!\n",
      "\n",
      "You should see something like this:\n",
      "\n",
      "![standard](https://raw.github.com/agconti/Django-IPython-Tutorial/master/images/django_worked_standard.png)"
     ]
    },
    {
     "cell_type": "markdown",
     "metadata": {},
     "source": [
      "###Congrats!\n",
      "You\u2019ve started the Django development server, a lightweight Web server written purely in Python. We\u2019ve included this with Django so you can develop things rapidly, without having to deal with configuring a production server \u2013 such as Apache \u2013 until you\u2019re ready for production.\n",
      "\n",
      "Now\u2019s a good time to note: Don\u2019t use this server in anything resembling a production environment. It\u2019s intended only for use while developing. (We\u2019re in the business of making Web frameworks, not Web servers.)\n",
      "\n",
      "###Database setup\n",
      "\n",
      "Now, edit `settings.py`. It\u2019s a normal Python module with module-level variables representing Django settings. Change the following keys in the `DATABASES` '`default`' item to match your databases connection settings.\n",
      "\n",
      "* **ENGINE** \u2013 Either '`django.db.backends.postgresql_psycopg2`', '`django.db.backends.mysql`' or '`django.db.backends.sqlite3`'. Other backends are also available.\n",
      "\n",
      "* **NAME** \u2013 The name of your database. If you\u2019re using SQLite, the database will be a file on your computer; in that case, NAME should be the full absolute path, including filename, of that file. If the file doesn\u2019t exist, it will automatically be created when you synchronize the database for the first time (see below). When specifying the path, always use forward slashes, even on Windows (e.g. `C:/homes/user/mysite/sqlite3.db`).\n",
      "\n",
      "* **USER** \u2013 Your database username (not used for SQLite).\n",
      "\n",
      "* **PASSWORD** \u2013 Your database password (not used for SQLite).\n",
      "\n",
      "* **HOST** \u2013 The host your database is on. Leave this as an empty string if your database server is on the same physical machine (not used for SQLite).\n",
      "\n",
      "*If you\u2019re new to databases, we recommend simply using SQLite (by setting ENGINE to '`django.db.backends.sqlite3`'). SQLite is included as part of `Python 2.5` and later, so you won\u2019t need to install anything else.*\n",
      "\n",
      "Let's navigate to the settings file:"
     ]
    },
    {
     "cell_type": "code",
     "collapsed": false,
     "input": [
      "cd mysite/"
     ],
     "language": "python",
     "metadata": {},
     "outputs": [
      {
       "output_type": "stream",
       "stream": "stdout",
       "text": [
        "C:\\Users\\Andrew\\Documents\\Kaggle\\tutorial\\django_tut\\mysite\\mysite\n"
       ]
      }
     ],
     "prompt_number": 10
    },
    {
     "cell_type": "code",
     "collapsed": false,
     "input": [
      "%%writefile settings.py\n",
      "# Django settings for mysite project.\n",
      "\n",
      "DEBUG = True\n",
      "TEMPLATE_DEBUG = DEBUG\n",
      "\n",
      "ADMINS = (\n",
      "    # ('Your Name', 'your_email@example.com'),\n",
      ")\n",
      "\n",
      "MANAGERS = ADMINS\n",
      "\n",
      "DATABASES = {\n",
      "    'default': {\n",
      "        'ENGINE': 'django.db.backends.sqlite3', # Add 'postgresql_psycopg2', 'mysql', 'sqlite3' or 'oracle'.\n",
      "        'NAME': r'\\\\AGC\\Users\\Andrew\\Documents\\Kaggle\\tutorial\\django_tut\\mysite\\sqlite3.db', # Or path to database file if using sqlite3.\n",
      "        # The following settings are not used with sqlite3:\n",
      "        'USER': '',\n",
      "        'PASSWORD': '',\n",
      "        'HOST': '',                      # Empty for localhost through domain sockets or '127.0.0.1' for localhost through TCP.\n",
      "        'PORT': '',                      # Set to empty string for default.\n",
      "    }\n",
      "}\n",
      "\n",
      "# Hosts/domain names that are valid for this site; required if DEBUG is False\n",
      "# See https://docs.djangoproject.com/en/1.5/ref/settings/#allowed-hosts\n",
      "ALLOWED_HOSTS = []\n",
      "\n",
      "# Local time zone for this installation. Choices can be found here:\n",
      "# http://en.wikipedia.org/wiki/List_of_tz_zones_by_name\n",
      "# although not all choices may be available on all operating systems.\n",
      "# In a Windows environment this must be set to your system time zone.\n",
      "TIME_ZONE = 'America/Chicago'\n",
      "\n",
      "# Language code for this installation. All choices can be found here:\n",
      "# http://www.i18nguy.com/unicode/language-identifiers.html\n",
      "LANGUAGE_CODE = 'en-us'\n",
      "\n",
      "SITE_ID = 1\n",
      "\n",
      "# If you set this to False, Django will make some optimizations so as not\n",
      "# to load the internationalization machinery.\n",
      "USE_I18N = True\n",
      "\n",
      "# If you set this to False, Django will not format dates, numbers and\n",
      "# calendars according to the current locale.\n",
      "USE_L10N = True\n",
      "\n",
      "# If you set this to False, Django will not use timezone-aware datetimes.\n",
      "USE_TZ = True\n",
      "\n",
      "# Absolute filesystem path to the directory that will hold user-uploaded files.\n",
      "# Example: \"/var/www/example.com/media/\"\n",
      "MEDIA_ROOT = ''\n",
      "\n",
      "# URL that handles the media served from MEDIA_ROOT. Make sure to use a\n",
      "# trailing slash.\n",
      "# Examples: \"http://example.com/media/\", \"http://media.example.com/\"\n",
      "MEDIA_URL = ''\n",
      "\n",
      "# Absolute path to the directory static files should be collected to.\n",
      "# Don't put anything in this directory yourself; store your static files\n",
      "# in apps' \"static/\" subdirectories and in STATICFILES_DIRS.\n",
      "# Example: \"/var/www/example.com/static/\"\n",
      "STATIC_ROOT = ''\n",
      "\n",
      "# URL prefix for static files.\n",
      "# Example: \"http://example.com/static/\", \"http://static.example.com/\"\n",
      "STATIC_URL = '/static/'\n",
      "\n",
      "# Additional locations of static files\n",
      "STATICFILES_DIRS = (\n",
      "    # Put strings here, like \"/home/html/static\" or \"C:/www/django/static\".\n",
      "    # Always use forward slashes, even on Windows.\n",
      "    # Don't forget to use absolute paths, not relative paths.\n",
      ")\n",
      "\n",
      "# List of finder classes that know how to find static files in\n",
      "# various locations.\n",
      "STATICFILES_FINDERS = (\n",
      "    'django.contrib.staticfiles.finders.FileSystemFinder',\n",
      "    'django.contrib.staticfiles.finders.AppDirectoriesFinder',\n",
      "#    'django.contrib.staticfiles.finders.DefaultStorageFinder',\n",
      ")\n",
      "\n",
      "# Make this unique, and don't share it with anybody.\n",
      "SECRET_KEY = '6!rjez*0oag4u79e+r9skinhw!jyrq)s(o+(#q_tdbb1hb6g2#'\n",
      "\n",
      "# List of callables that know how to import templates from various sources.\n",
      "TEMPLATE_LOADERS = (\n",
      "    'django.template.loaders.filesystem.Loader',\n",
      "    'django.template.loaders.app_directories.Loader',\n",
      "#     'django.template.loaders.eggs.Loader',\n",
      ")\n",
      "\n",
      "MIDDLEWARE_CLASSES = (\n",
      "    'django.middleware.common.CommonMiddleware',\n",
      "    'django.contrib.sessions.middleware.SessionMiddleware',\n",
      "    'django.middleware.csrf.CsrfViewMiddleware',\n",
      "    'django.contrib.auth.middleware.AuthenticationMiddleware',\n",
      "    'django.contrib.messages.middleware.MessageMiddleware',\n",
      "    # Uncomment the next line for simple clickjacking protection:\n",
      "    # 'django.middleware.clickjacking.XFrameOptionsMiddleware',\n",
      ")\n",
      "\n",
      "ROOT_URLCONF = 'mysite.urls'\n",
      "\n",
      "# Python dotted path to the WSGI application used by Django's runserver.\n",
      "WSGI_APPLICATION = 'mysite.wsgi.application'\n",
      "\n",
      "TEMPLATE_DIRS = (\n",
      "    # Put strings here, like \"/home/html/django_templates\" or \"C:/www/django/templates\".\n",
      "    # Always use forward slashes, even on Windows.\n",
      "    # Don't forget to use absolute paths, not relative paths.\n",
      ")\n",
      "\n",
      "INSTALLED_APPS = (\n",
      "    'django.contrib.auth',\n",
      "    'django.contrib.contenttypes',\n",
      "    'django.contrib.sessions',\n",
      "    'django.contrib.sites',\n",
      "    'django.contrib.messages',\n",
      "    'django.contrib.staticfiles',\n",
      "    # Uncomment the next line to enable the admin:\n",
      "    # 'django.contrib.admin',\n",
      "    # Uncomment the next line to enable admin documentation:\n",
      "    # 'django.contrib.admindocs',\n",
      ")\n",
      "\n",
      "# A sample logging configuration. The only tangible logging\n",
      "# performed by this configuration is to send an email to\n",
      "# the site admins on every HTTP 500 error when DEBUG=False.\n",
      "# See http://docs.djangoproject.com/en/dev/topics/logging for\n",
      "# more details on how to customize your logging configuration.\n",
      "LOGGING = {\n",
      "    'version': 1,\n",
      "    'disable_existing_loggers': False,\n",
      "    'filters': {\n",
      "        'require_debug_false': {\n",
      "            '()': 'django.utils.log.RequireDebugFalse'\n",
      "        }\n",
      "    },\n",
      "    'handlers': {\n",
      "        'mail_admins': {\n",
      "            'level': 'ERROR',\n",
      "            'filters': ['require_debug_false'],\n",
      "            'class': 'django.utils.log.AdminEmailHandler'\n",
      "        }\n",
      "    },\n",
      "    'loggers': {\n",
      "        'django.request': {\n",
      "            'handlers': ['mail_admins'],\n",
      "            'level': 'ERROR',\n",
      "            'propagate': True,\n",
      "        },\n",
      "    }\n",
      "}\n"
     ],
     "language": "python",
     "metadata": {},
     "outputs": [
      {
       "output_type": "stream",
       "stream": "stdout",
       "text": [
        "Overwriting settings.py\n"
       ]
      }
     ],
     "prompt_number": 11
    },
    {
     "cell_type": "markdown",
     "metadata": {},
     "source": [
      "While you\u2019re editing `settings.py`, take note of the `INSTALLED_APPS` setting towards the bottom of the file. That variable holds the names of all Django applications that are activated in this Django instance. Apps can be used in multiple projects, and you can package and distribute them for use by others in their projects.\n",
      "\n",
      "By default, `INSTALLED_APPS` contains the following apps, all of which come with Django:\n",
      "\n",
      "* django.contrib.auth \u2013 An authentication system.\n",
      "* django.contrib.contenttypes \u2013 A framework for content types.\n",
      "* django.contrib.sessions \u2013 A session framework.\n",
      "* django.contrib.sites \u2013 A framework for managing multiple sites with one Django installation.\n",
      "* django.contrib.messages \u2013 A messaging framework.\n",
      "* These applications are included by default as a convenience for the common case.\n",
      "\n",
      "Each of these applications makes use of at least one database table, though, so we need to create the tables in the database before we can use them. To do that, run the following command:\n",
      "\n",
      "    python manage.py syncdb\n",
      "\n",
      "The syncdb command looks at the INSTALLED_APPS setting and creates any necessary database tables according to the database settings in your settings.py file. You\u2019ll see a message for each database table it creates, and you\u2019ll get a prompt asking you if you\u2019d like to create a superuser account for the authentication system. Go ahead and do that.\n",
      "\n",
      "If you\u2019re interested, run the command-line client for your database and type \\dt (PostgreSQL), SHOW TABLES; (MySQL), or .schema (SQLite) to display the tables Django created."
     ]
    },
    {
     "cell_type": "code",
     "collapsed": false,
     "input": [
      "cd .."
     ],
     "language": "python",
     "metadata": {},
     "outputs": [
      {
       "output_type": "stream",
       "stream": "stdout",
       "text": [
        "C:\\Users\\Andrew\\Documents\\Kaggle\\tutorial\\django_tut\\mysite\n"
       ]
      }
     ],
     "prompt_number": 12
    },
    {
     "cell_type": "markdown",
     "metadata": {},
     "source": [
      "We'll run our sync as a sub process so we we can continue with the interactive tutorial:"
     ]
    },
    {
     "cell_type": "code",
     "collapsed": false,
     "input": [
      "import subprocess\n",
      "subprocess.Popen([\"python\", \"manage.py\", \"syncdb\"])"
     ],
     "language": "python",
     "metadata": {},
     "outputs": [
      {
       "metadata": {},
       "output_type": "pyout",
       "prompt_number": 13,
       "text": [
        "<subprocess.Popen at 0x79350b8>"
       ]
      }
     ],
     "prompt_number": 13
    },
    {
     "cell_type": "markdown",
     "metadata": {},
     "source": [
      "###Creating models\n",
      "\n",
      "Now that your environment \u2013 a \u201cproject\u201d \u2013 is set up, you\u2019re set to start doing work.\n",
      "\n",
      "Each application you write in Django consists of a Python package, somewhere on your Python path, that follows a certain convention. Django comes with a utility that automatically generates the basic directory structure of an app, so you can focus on writing code rather than creating directories.\n",
      "\n",
      "###Projects vs. apps\n",
      "What\u2019s the difference between a project and an app? An app is a Web application that does something \u2013 e.g., a Weblog system, a database of public records or a simple poll app. A project is a collection of configuration and apps for a particular Web site. A project can contain multiple apps. An app can be in multiple projects.\n",
      "\n",
      "Your apps can live anywhere on your Python path. In this tutorial, we\u2019ll create our poll app in the mysite directory for simplicity.\n",
      "\n",
      "To create your app, make sure you\u2019re in the mysite directory and type this command:"
     ]
    },
    {
     "cell_type": "code",
     "collapsed": false,
     "input": [
      "#!python manage.py startapp polls"
     ],
     "language": "python",
     "metadata": {},
     "outputs": [],
     "prompt_number": 14
    },
    {
     "cell_type": "code",
     "collapsed": false,
     "input": [
      "cd polls"
     ],
     "language": "python",
     "metadata": {},
     "outputs": [
      {
       "output_type": "stream",
       "stream": "stdout",
       "text": [
        "C:\\Users\\Andrew\\Documents\\Kaggle\\tutorial\\django_tut\\mysite\\polls\n"
       ]
      }
     ],
     "prompt_number": 15
    },
    {
     "cell_type": "markdown",
     "metadata": {},
     "source": [
      "That\u2019ll create a directory polls, which is laid out like this:"
     ]
    },
    {
     "cell_type": "code",
     "collapsed": false,
     "input": [
      "ls"
     ],
     "language": "python",
     "metadata": {},
     "outputs": [
      {
       "output_type": "stream",
       "stream": "stdout",
       "text": [
        " Volume in drive C is OS\n",
        " Volume Serial Number is EA4A-2994\n",
        "\n",
        " Directory of C:\\Users\\Andrew\\Documents\\Kaggle\\tutorial\\django_tut\\mysite\\polls\n",
        "\n",
        "07/09/2013  04:50 PM    <DIR>          .\n",
        "07/09/2013  04:50 PM    <DIR>          ..\n",
        "07/09/2013  04:28 PM                 0 __init__.py\n",
        "07/09/2013  04:50 PM               164 __init__.pyc\n",
        "07/09/2013  04:33 PM               324 models.py\n",
        "07/09/2013  04:50 PM               953 models.pyc\n",
        "07/09/2013  04:28 PM               383 tests.py\n",
        "07/09/2013  04:28 PM                26 views.py\n",
        "               6 File(s)          1,850 bytes\n",
        "               2 Dir(s)  742,174,478,336 bytes free\n"
       ]
      }
     ],
     "prompt_number": 16
    },
    {
     "cell_type": "markdown",
     "metadata": {},
     "source": [
      "This directory structure will house the poll application.\n",
      "\n",
      "The first step in writing a database Web app in Django is to define your models \u2013 essentially, your database layout, with additional metadata.\n",
      "\n",
      "###Philosophy\n",
      "A model is the single, definitive source of data about your data. It contains the essential fields and behaviors of the data you\u2019re storing. Django follows the DRY Principle. The goal is to define your data model in one place and automatically derive things from it.\n",
      "In our simple poll app, we\u2019ll create two models: Poll and Choice. A Poll has a question and a publication date. A Choice has two fields: the text of the choice and a vote tally. Each Choice is associated with a Poll.\n",
      "\n",
      "These concepts are represented by simple Python classes. Now lets edit the polls/models.py.\n",
      "\n",
      "Orginally it looks lik this\n",
      "\n",
      "    from django.db import models\n",
      "    \n",
      "    # Create your models here.\n",
      "    \n",
      "Now lets change it define the strucutre in our Poll and Choice tables:"
     ]
    },
    {
     "cell_type": "code",
     "collapsed": false,
     "input": [
      "%%writefile models.py\n",
      "from django.db import models\n",
      "\n",
      "class Poll(models.Model):\n",
      "    question = models.CharField(max_length=200)\n",
      "    pub_date = models.DateTimeField('date published')\n",
      "\n",
      "class Choice(models.Model):\n",
      "    poll = models.ForeignKey(Poll)\n",
      "    choice_text = models.CharField(max_length=200)\n",
      "    votes = models.IntegerField(default=0)"
     ],
     "language": "python",
     "metadata": {},
     "outputs": [
      {
       "output_type": "stream",
       "stream": "stdout",
       "text": [
        "Overwriting models.py\n"
       ]
      }
     ],
     "prompt_number": 17
    },
    {
     "cell_type": "markdown",
     "metadata": {},
     "source": [
      "The code is straightforward. Each model is represented by a class that subclasses `django.db.models.Model`. Each model has a number of class variables, each of which represents a database field in the model.\n",
      "\n",
      "Each field is represented by an instance of a `Field` class \u2013 e.g., `CharField` for character fields and `DateTimeField` for datetimes. This tells Django what type of data each field holds.\n",
      "\n",
      "The name of each `Field` instance (e.g. `question` or `pub_date` ) is the field\u2019s name, in machine-friendly format. You\u2019ll use this value in your Python code, and your database will use it as the column name.\n",
      "\n",
      "You can use an optional first positional argument to a Field to designate a human-readable name. That\u2019s used in a couple of introspective parts of Django, and it doubles as documentation. If this field isn\u2019t provided, Django will use the machine-readable name. In this example, we\u2019ve only defined a human-readable name for `Poll.pub_date`. For all other fields in this model, the field\u2019s machine-readable name will suffice as its human-readable name.\n",
      "\n",
      "Some Field classes have required arguments. `CharField`, for example, requires that you give it a `max_length`. That\u2019s used not only in the database schema, but in validation, as we\u2019ll soon see.\n",
      "\n",
      "A `Field` can also have various optional arguments; in this case, we\u2019ve set the default value of votes to 0.\n",
      "\n",
      "Finally, note a relationship is defined, using `ForeignKey`. That tells Django each Choice is related to a single Poll. Django supports all the common database relationships: many-to-ones, many-to-manys and one-to-ones.\n",
      "\n",
      "###Activating models\n",
      "That small bit of model code gives Django a lot of information. With it, Django is able to:\n",
      "\n",
      "* Create a database schema (CREATE TABLE statements) for this app.\n",
      "* Create a Python database-access API for accessing Poll and Choice objects.\n",
      "But first we need to tell our project that the polls app is installed.\n",
      "\n",
      "###Philosophy\n",
      "Django apps are \u201cpluggable\u201d: You can use an app in multiple projects, and you can distribute apps, because they don\u2019t have to be tied to a given Django installation.\n",
      "\n",
      "Edit the `settings.py` file again, and change the `INSTALLED_APPS` setting to include the string 'polls'. So it\u2019ll look like this:\n",
      "    \n",
      "    INSTALLED_APPS = (\n",
      "        'django.contrib.auth',\n",
      "        'django.contrib.contenttypes',\n",
      "        'django.contrib.sessions',\n",
      "        'django.contrib.sites',\n",
      "        'django.contrib.messages',\n",
      "        'django.contrib.staticfiles',\n",
      "        # Uncomment the next line to enable the admin:\n",
      "        # 'django.contrib.admin',\n",
      "        # Uncomment the next line to enable admin documentation:\n",
      "        # 'django.contrib.admindocs',\n",
      "        'polls', #<-- Heres our new Installed app!\n",
      "    )\n",
      "\n",
      "This has been done fore you below."
     ]
    },
    {
     "cell_type": "code",
     "collapsed": false,
     "input": [
      "%%writefile settings.py\n",
      "# Django settings for mysite project.\n",
      "\n",
      "DEBUG = True\n",
      "TEMPLATE_DEBUG = DEBUG\n",
      "\n",
      "ADMINS = (\n",
      "    # ('Your Name', 'your_email@example.com'),\n",
      ")\n",
      "\n",
      "MANAGERS = ADMINS\n",
      "\n",
      "DATABASES = {\n",
      "    'default': {\n",
      "        'ENGINE': 'django.db.backends.sqlite3', # Add 'postgresql_psycopg2', 'mysql', 'sqlite3' or 'oracle'.\n",
      "        'NAME': r'\\\\AGC\\Users\\Andrew\\Documents\\Kaggle\\tutorial\\django_tut\\mysite\\sqlite3.db', # Or path to database file if using sqlite3.\n",
      "        # The following settings are not used with sqlite3:\n",
      "        'USER': '',\n",
      "        'PASSWORD': '',\n",
      "        'HOST': '',                      # Empty for localhost through domain sockets or '127.0.0.1' for localhost through TCP.\n",
      "        'PORT': '',                      # Set to empty string for default.\n",
      "    }\n",
      "}\n",
      "\n",
      "# Hosts/domain names that are valid for this site; required if DEBUG is False\n",
      "# See https://docs.djangoproject.com/en/1.5/ref/settings/#allowed-hosts\n",
      "ALLOWED_HOSTS = []\n",
      "\n",
      "# Local time zone for this installation. Choices can be found here:\n",
      "# http://en.wikipedia.org/wiki/List_of_tz_zones_by_name\n",
      "# although not all choices may be available on all operating systems.\n",
      "# In a Windows environment this must be set to your system time zone.\n",
      "TIME_ZONE = 'America/Chicago'\n",
      "\n",
      "# Language code for this installation. All choices can be found here:\n",
      "# http://www.i18nguy.com/unicode/language-identifiers.html\n",
      "LANGUAGE_CODE = 'en-us'\n",
      "\n",
      "SITE_ID = 1\n",
      "\n",
      "# If you set this to False, Django will make some optimizations so as not\n",
      "# to load the internationalization machinery.\n",
      "USE_I18N = True\n",
      "\n",
      "# If you set this to False, Django will not format dates, numbers and\n",
      "# calendars according to the current locale.\n",
      "USE_L10N = True\n",
      "\n",
      "# If you set this to False, Django will not use timezone-aware datetimes.\n",
      "USE_TZ = True\n",
      "\n",
      "# Absolute filesystem path to the directory that will hold user-uploaded files.\n",
      "# Example: \"/var/www/example.com/media/\"\n",
      "MEDIA_ROOT = ''\n",
      "\n",
      "# URL that handles the media served from MEDIA_ROOT. Make sure to use a\n",
      "# trailing slash.\n",
      "# Examples: \"http://example.com/media/\", \"http://media.example.com/\"\n",
      "MEDIA_URL = ''\n",
      "\n",
      "# Absolute path to the directory static files should be collected to.\n",
      "# Don't put anything in this directory yourself; store your static files\n",
      "# in apps' \"static/\" subdirectories and in STATICFILES_DIRS.\n",
      "# Example: \"/var/www/example.com/static/\"\n",
      "STATIC_ROOT = ''\n",
      "\n",
      "# URL prefix for static files.\n",
      "# Example: \"http://example.com/static/\", \"http://static.example.com/\"\n",
      "STATIC_URL = '/static/'\n",
      "\n",
      "# Additional locations of static files\n",
      "STATICFILES_DIRS = (\n",
      "    # Put strings here, like \"/home/html/static\" or \"C:/www/django/static\".\n",
      "    # Always use forward slashes, even on Windows.\n",
      "    # Don't forget to use absolute paths, not relative paths.\n",
      ")\n",
      "\n",
      "# List of finder classes that know how to find static files in\n",
      "# various locations.\n",
      "STATICFILES_FINDERS = (\n",
      "    'django.contrib.staticfiles.finders.FileSystemFinder',\n",
      "    'django.contrib.staticfiles.finders.AppDirectoriesFinder',\n",
      "#    'django.contrib.staticfiles.finders.DefaultStorageFinder',\n",
      ")\n",
      "\n",
      "# Make this unique, and don't share it with anybody.\n",
      "SECRET_KEY = '6!rjez*0oag4u79e+r9skinhw!jyrq)s(o+(#q_tdbb1hb6g2#'\n",
      "\n",
      "# List of callables that know how to import templates from various sources.\n",
      "TEMPLATE_LOADERS = (\n",
      "    'django.template.loaders.filesystem.Loader',\n",
      "    'django.template.loaders.app_directories.Loader',\n",
      "#     'django.template.loaders.eggs.Loader',\n",
      ")\n",
      "\n",
      "MIDDLEWARE_CLASSES = (\n",
      "    'django.middleware.common.CommonMiddleware',\n",
      "    'django.contrib.sessions.middleware.SessionMiddleware',\n",
      "    'django.middleware.csrf.CsrfViewMiddleware',\n",
      "    'django.contrib.auth.middleware.AuthenticationMiddleware',\n",
      "    'django.contrib.messages.middleware.MessageMiddleware',\n",
      "    # Uncomment the next line for simple clickjacking protection:\n",
      "    # 'django.middleware.clickjacking.XFrameOptionsMiddleware',\n",
      ")\n",
      "\n",
      "ROOT_URLCONF = 'mysite.urls'\n",
      "\n",
      "# Python dotted path to the WSGI application used by Django's runserver.\n",
      "WSGI_APPLICATION = 'mysite.wsgi.application'\n",
      "\n",
      "TEMPLATE_DIRS = (\n",
      "    # Put strings here, like \"/home/html/django_templates\" or \"C:/www/django/templates\".\n",
      "    # Always use forward slashes, even on Windows.\n",
      "    # Don't forget to use absolute paths, not relative paths.\n",
      ")\n",
      "\n",
      "INSTALLED_APPS = (\n",
      "    'django.contrib.auth',\n",
      "    'django.contrib.contenttypes',\n",
      "    'django.contrib.sessions',\n",
      "    'django.contrib.sites',\n",
      "    'django.contrib.messages',\n",
      "    'django.contrib.staticfiles',\n",
      "    # Uncomment the next line to enable the admin:\n",
      "    # 'django.contrib.admin',\n",
      "    # Uncomment the next line to enable admin documentation:\n",
      "    # 'django.contrib.admindocs'\n",
      "    'polls',\n",
      ")\n",
      "\n",
      "# A sample logging configuration. The only tangible logging\n",
      "# performed by this configuration is to send an email to\n",
      "# the site admins on every HTTP 500 error when DEBUG=False.\n",
      "# See http://docs.djangoproject.com/en/dev/topics/logging for\n",
      "# more details on how to customize your logging configuration.\n",
      "LOGGING = {\n",
      "    'version': 1,\n",
      "    'disable_existing_loggers': False,\n",
      "    'filters': {\n",
      "        'require_debug_false': {\n",
      "            '()': 'django.utils.log.RequireDebugFalse'\n",
      "        }\n",
      "    },\n",
      "    'handlers': {\n",
      "        'mail_admins': {\n",
      "            'level': 'ERROR',\n",
      "            'filters': ['require_debug_false'],\n",
      "            'class': 'django.utils.log.AdminEmailHandler'\n",
      "        }\n",
      "    },\n",
      "    'loggers': {\n",
      "        'django.request': {\n",
      "            'handlers': ['mail_admins'],\n",
      "            'level': 'ERROR',\n",
      "            'propagate': True,\n",
      "        },\n",
      "    }\n",
      "}\n",
      "#ignore the following error when using ipython:\n",
      "#/django/db/backends/sqlite3/base.py:50: RuntimeWarning:\n",
      "#SQLite received a naive datetime (2012-11-02 11:20:15.156506) while time zone support is active.\n",
      "\n",
      "import warnings\n",
      "import exceptions\n",
      "warnings.filterwarnings(\"ignore\", category=exceptions.RuntimeWarning, module='django.db.backends.sqlite3.base', lineno=53)"
     ],
     "language": "python",
     "metadata": {},
     "outputs": [
      {
       "output_type": "stream",
       "stream": "stdout",
       "text": [
        "Overwriting settings.py\n"
       ]
      }
     ],
     "prompt_number": 44
    },
    {
     "cell_type": "markdown",
     "metadata": {},
     "source": [
      "Now Django knows to include the polls app. Let\u2019s run another command:\n",
      "\n"
     ]
    },
    {
     "cell_type": "code",
     "collapsed": false,
     "input": [
      "cd .."
     ],
     "language": "python",
     "metadata": {},
     "outputs": [
      {
       "output_type": "stream",
       "stream": "stdout",
       "text": [
        "C:\\Users\\Andrew\\Documents\\Kaggle\\tutorial\\django_tut\\mysite\n"
       ]
      }
     ],
     "prompt_number": 21
    },
    {
     "cell_type": "code",
     "collapsed": false,
     "input": [
      "!!python manage.py sql polls"
     ],
     "language": "python",
     "metadata": {},
     "outputs": [
      {
       "metadata": {},
       "output_type": "pyout",
       "prompt_number": 22,
       "text": [
        "['BEGIN;',\n",
        " 'CREATE TABLE \"polls_poll\" (',\n",
        " '    \"id\" integer NOT NULL PRIMARY KEY,',\n",
        " '    \"question\" varchar(200) NOT NULL,',\n",
        " '    \"pub_date\" datetime NOT NULL',\n",
        " ')',\n",
        " ';',\n",
        " 'CREATE TABLE \"polls_choice\" (',\n",
        " '    \"id\" integer NOT NULL PRIMARY KEY,',\n",
        " '    \"poll_id\" integer NOT NULL REFERENCES \"polls_poll\" (\"id\"),',\n",
        " '    \"choice_text\" varchar(200) NOT NULL,',\n",
        " '    \"votes\" integer NOT NULL',\n",
        " ')',\n",
        " ';',\n",
        " '',\n",
        " 'COMMIT;']"
       ]
      }
     ],
     "prompt_number": 22
    },
    {
     "cell_type": "markdown",
     "metadata": {},
     "source": [
      "You should see something similar to the following (the `CREATE TABLE SQL` statements for the `polls` app):\n",
      "\n",
      "    BEGIN;\n",
      "    CREATE TABLE \"polls_poll\" (\n",
      "        \"id\" serial NOT NULL PRIMARY KEY,\n",
      "        \"question\" varchar(200) NOT NULL,\n",
      "        \"pub_date\" timestamp with time zone NOT NULL\n",
      "    );\n",
      "    CREATE TABLE \"polls_choice\" (\n",
      "        \"id\" serial NOT NULL PRIMARY KEY,\n",
      "        \"poll_id\" integer NOT NULL REFERENCES \"polls_poll\" (\"id\") DEFERRABLE INITIALLY DEFERRED,\n",
      "        \"choice_text\" varchar(200) NOT NULL,\n",
      "        \"votes\" integer NOT NULL\n",
      "    );\n",
      "    COMMIT;\n",
      "    \n",
      "Note the following:\n",
      "\n",
      "* The exact output will vary depending on the database you are using.\n",
      "* Table names are automatically generated by combining the name of the app (polls) and the lowercase name of the model \u2013 poll and choice. (You can override this behavior.)\n",
      "* Primary keys (IDs) are added automatically. (You can override this, too.)\n",
      "* By convention, Django appends \"_id\" to the foreign key field name. (Yes, you can override this, as well.)\n",
      "* The foreign key relationship is made explicit by a REFERENCES statement.\n",
      "* It\u2019s tailored to the database you\u2019re using, so database-specific field types such as auto_increment (MySQL), serial (PostgreSQL), or integer primary key (SQLite) are handled for you automatically. Same goes for quoting of field names \u2013 e.g., using double quotes or single quotes. The author of this tutorial runs PostgreSQL, so the example output is in PostgreSQL syntax.\n",
      "* The sql command doesn\u2019t actually run the SQL in your database - it just prints it to the screen so that you can see what SQL Django thinks is required. If you wanted to, you could copy and paste this SQL into your database prompt. However, as we will see shortly, Django provides an easier way of committing the SQL to the database.\n",
      "\n",
      "*If you\u2019re interested, also run the following commands:*\n",
      "    \n",
      "    \n",
      "    !!python manage.py validate \n",
      "    # Checks for any errors in the construction of your models.\n",
      "    \n",
      "    !!python manage.py sqlcustom polls \n",
      "    # Outputs any custom SQL statements (such as table modifications or constraints) that are defined for the application.\n",
      "    \n",
      "    !!python manage.py sqlclear polls \n",
      "    # Outputs the necessary DROP TABLE statements for this app, according to which tables already exist in your database (if any).\n",
      "    \n",
      "    !!python manage.py sqlindexes polls \n",
      "    # Outputs the CREATE INDEX statements for this app.\n",
      "    \n",
      "    !!python manage.py sqlall polls\n",
      "    # A combination of all the SQL from the sql, sqlcustom, and sqlindexes commands.\n",
      "\n",
      "Looking at the output of those commands can help you understand what\u2019s actually happening under the hood.\n",
      "\n",
      "Now, run syncdb again to create those model tables in your database:\n",
      "\n",
      "(to run from the command line use: `python manage.py syncdb`)"
     ]
    },
    {
     "cell_type": "code",
     "collapsed": false,
     "input": [
      "subprocess.Popen([\"python\", \"manage.py\", \"syncdb\"])"
     ],
     "language": "python",
     "metadata": {},
     "outputs": [
      {
       "metadata": {},
       "output_type": "pyout",
       "prompt_number": 23,
       "text": [
        "<subprocess.Popen at 0x78ccd30>"
       ]
      }
     ],
     "prompt_number": 23
    },
    {
     "cell_type": "markdown",
     "metadata": {},
     "source": [
      "The syncdb command runs the SQL from sqlall on your database for all apps in `INSTALLED_APPS` that don\u2019t already exist in your database. This creates all the tables, initial data and indexes for any apps you\u2019ve added to your project since the last time you ran syncdb. syncdb can be called as often as you like, and it will only ever create the tables that don\u2019t exist.\n",
      "\n",
      "Read the `django-admin.py` documentation for full information on what the `manage.py` utility can do.\n",
      "\n",
      "###Playing with the API\n",
      "Now, let\u2019s hop into the interactive Python shell and play around with the free API Django gives you. To invoke the Python shell from the command line, use this command:\n",
      "\n",
      "    python manage.py shell\n",
      "\n",
      "We\u2019re using this instead of simply typing `python`, because `manage.py` sets the `DJANGO_SETTINGS_MODULE` environment variable, which gives Django the Python import path to your `mysite/settings.py` file.\n",
      "\n",
      "###Bypassing manage.py\n",
      "If you\u2019d rather not use `manage.py`, no problem. Just set the `DJANGO_SETTINGS_MODULE` environment variable to `mysite.settings` and run python from the same directory `manage.py` is in (or ensure that directory is on the Python path, so that import mysite works).\n",
      "\n",
      "For more information on all of this, see the `django-admin.py` documentation.\n",
      "\n",
      "For this tutorial, we'll explore the API from the IPython Notebook:"
     ]
    },
    {
     "cell_type": "code",
     "collapsed": false,
     "input": [
      "import os\n",
      "os.environ['DJANGO_SETTINGS_MODULE'] = 'mysite.settings'"
     ],
     "language": "python",
     "metadata": {},
     "outputs": [],
     "prompt_number": 67
    },
    {
     "cell_type": "code",
     "collapsed": false,
     "input": [
      "from polls.models import Poll, Choice # Import the model classes we just wrote."
     ],
     "language": "python",
     "metadata": {},
     "outputs": [
      {
       "ename": "ImportError",
       "evalue": "cannot import name utils",
       "output_type": "pyerr",
       "traceback": [
        "\u001b[1;31m---------------------------------------------------------------------------\u001b[0m\n\u001b[1;31mImportError\u001b[0m                               Traceback (most recent call last)",
        "\u001b[1;32m<ipython-input-68-d7bea86b16ce>\u001b[0m in \u001b[0;36m<module>\u001b[1;34m()\u001b[0m\n\u001b[1;32m----> 1\u001b[1;33m \u001b[1;32mfrom\u001b[0m \u001b[0mpolls\u001b[0m\u001b[1;33m.\u001b[0m\u001b[0mmodels\u001b[0m \u001b[1;32mimport\u001b[0m \u001b[0mPoll\u001b[0m\u001b[1;33m,\u001b[0m \u001b[0mChoice\u001b[0m \u001b[1;31m# Import the model classes we just wrote.\u001b[0m\u001b[1;33m\u001b[0m\u001b[0m\n\u001b[0m",
        "\u001b[1;32mC:\\Users\\Andrew\\Documents\\Kaggle\\tutorial\\django_tut\\mysite\\polls\\models.py\u001b[0m in \u001b[0;36m<module>\u001b[1;34m()\u001b[0m\n\u001b[1;32m----> 1\u001b[1;33m \u001b[1;32mfrom\u001b[0m \u001b[0mdjango\u001b[0m\u001b[1;33m.\u001b[0m\u001b[0mdb\u001b[0m \u001b[1;32mimport\u001b[0m \u001b[0mmodels\u001b[0m\u001b[1;33m\u001b[0m\u001b[0m\n\u001b[0m\u001b[0;32m      2\u001b[0m \u001b[1;33m\u001b[0m\u001b[0m\n\u001b[0;32m      3\u001b[0m \u001b[1;32mclass\u001b[0m \u001b[0mPoll\u001b[0m\u001b[1;33m(\u001b[0m\u001b[0mmodels\u001b[0m\u001b[1;33m.\u001b[0m\u001b[0mModel\u001b[0m\u001b[1;33m)\u001b[0m\u001b[1;33m:\u001b[0m\u001b[1;33m\u001b[0m\u001b[0m\n\u001b[0;32m      4\u001b[0m     \u001b[0mquestion\u001b[0m \u001b[1;33m=\u001b[0m \u001b[0mmodels\u001b[0m\u001b[1;33m.\u001b[0m\u001b[0mCharField\u001b[0m\u001b[1;33m(\u001b[0m\u001b[0mmax_length\u001b[0m\u001b[1;33m=\u001b[0m\u001b[1;36m200\u001b[0m\u001b[1;33m)\u001b[0m\u001b[1;33m\u001b[0m\u001b[0m\n\u001b[0;32m      5\u001b[0m     \u001b[0mpub_date\u001b[0m \u001b[1;33m=\u001b[0m \u001b[0mmodels\u001b[0m\u001b[1;33m.\u001b[0m\u001b[0mDateTimeField\u001b[0m\u001b[1;33m(\u001b[0m\u001b[1;34m'date published'\u001b[0m\u001b[1;33m)\u001b[0m\u001b[1;33m\u001b[0m\u001b[0m\n",
        "\u001b[1;32mc:\\Python27\\lib\\site-packages\\django\\db\\__init__.py\u001b[0m in \u001b[0;36m<module>\u001b[1;34m()\u001b[0m\n\u001b[0;32m     38\u001b[0m \u001b[1;33m\u001b[0m\u001b[0m\n\u001b[0;32m     39\u001b[0m \u001b[0mconnection\u001b[0m \u001b[1;33m=\u001b[0m \u001b[0mDefaultConnectionProxy\u001b[0m\u001b[1;33m(\u001b[0m\u001b[1;33m)\u001b[0m\u001b[1;33m\u001b[0m\u001b[0m\n\u001b[1;32m---> 40\u001b[1;33m \u001b[0mbackend\u001b[0m \u001b[1;33m=\u001b[0m \u001b[0mload_backend\u001b[0m\u001b[1;33m(\u001b[0m\u001b[0mconnection\u001b[0m\u001b[1;33m.\u001b[0m\u001b[0msettings_dict\u001b[0m\u001b[1;33m[\u001b[0m\u001b[1;34m'ENGINE'\u001b[0m\u001b[1;33m]\u001b[0m\u001b[1;33m)\u001b[0m\u001b[1;33m\u001b[0m\u001b[0m\n\u001b[0m\u001b[0;32m     41\u001b[0m \u001b[1;33m\u001b[0m\u001b[0m\n\u001b[0;32m     42\u001b[0m \u001b[1;31m# Register an event that closes the database connection\u001b[0m\u001b[1;33m\u001b[0m\u001b[1;33m\u001b[0m\u001b[0m\n",
        "\u001b[1;32mc:\\Python27\\lib\\site-packages\\django\\db\\__init__.py\u001b[0m in \u001b[0;36m__getattr__\u001b[1;34m(self, item)\u001b[0m\n\u001b[0;32m     32\u001b[0m     \"\"\"\n\u001b[0;32m     33\u001b[0m     \u001b[1;32mdef\u001b[0m \u001b[0m__getattr__\u001b[0m\u001b[1;33m(\u001b[0m\u001b[0mself\u001b[0m\u001b[1;33m,\u001b[0m \u001b[0mitem\u001b[0m\u001b[1;33m)\u001b[0m\u001b[1;33m:\u001b[0m\u001b[1;33m\u001b[0m\u001b[0m\n\u001b[1;32m---> 34\u001b[1;33m         \u001b[1;32mreturn\u001b[0m \u001b[0mgetattr\u001b[0m\u001b[1;33m(\u001b[0m\u001b[0mconnections\u001b[0m\u001b[1;33m[\u001b[0m\u001b[0mDEFAULT_DB_ALIAS\u001b[0m\u001b[1;33m]\u001b[0m\u001b[1;33m,\u001b[0m \u001b[0mitem\u001b[0m\u001b[1;33m)\u001b[0m\u001b[1;33m\u001b[0m\u001b[0m\n\u001b[0m\u001b[0;32m     35\u001b[0m \u001b[1;33m\u001b[0m\u001b[0m\n\u001b[0;32m     36\u001b[0m     \u001b[1;32mdef\u001b[0m \u001b[0m__setattr__\u001b[0m\u001b[1;33m(\u001b[0m\u001b[0mself\u001b[0m\u001b[1;33m,\u001b[0m \u001b[0mname\u001b[0m\u001b[1;33m,\u001b[0m \u001b[0mvalue\u001b[0m\u001b[1;33m)\u001b[0m\u001b[1;33m:\u001b[0m\u001b[1;33m\u001b[0m\u001b[0m\n",
        "\u001b[1;32mc:\\Python27\\lib\\site-packages\\django\\db\\utils.pyc\u001b[0m in \u001b[0;36m__getitem__\u001b[1;34m(self, alias)\u001b[0m\n\u001b[0;32m     91\u001b[0m         \u001b[0mself\u001b[0m\u001b[1;33m.\u001b[0m\u001b[0mensure_defaults\u001b[0m\u001b[1;33m(\u001b[0m\u001b[0malias\u001b[0m\u001b[1;33m)\u001b[0m\u001b[1;33m\u001b[0m\u001b[0m\n\u001b[0;32m     92\u001b[0m         \u001b[0mdb\u001b[0m \u001b[1;33m=\u001b[0m \u001b[0mself\u001b[0m\u001b[1;33m.\u001b[0m\u001b[0mdatabases\u001b[0m\u001b[1;33m[\u001b[0m\u001b[0malias\u001b[0m\u001b[1;33m]\u001b[0m\u001b[1;33m\u001b[0m\u001b[0m\n\u001b[1;32m---> 93\u001b[1;33m         \u001b[0mbackend\u001b[0m \u001b[1;33m=\u001b[0m \u001b[0mload_backend\u001b[0m\u001b[1;33m(\u001b[0m\u001b[0mdb\u001b[0m\u001b[1;33m[\u001b[0m\u001b[1;34m'ENGINE'\u001b[0m\u001b[1;33m]\u001b[0m\u001b[1;33m)\u001b[0m\u001b[1;33m\u001b[0m\u001b[0m\n\u001b[0m\u001b[0;32m     94\u001b[0m         \u001b[0mconn\u001b[0m \u001b[1;33m=\u001b[0m \u001b[0mbackend\u001b[0m\u001b[1;33m.\u001b[0m\u001b[0mDatabaseWrapper\u001b[0m\u001b[1;33m(\u001b[0m\u001b[0mdb\u001b[0m\u001b[1;33m,\u001b[0m \u001b[0malias\u001b[0m\u001b[1;33m)\u001b[0m\u001b[1;33m\u001b[0m\u001b[0m\n\u001b[0;32m     95\u001b[0m         \u001b[0msetattr\u001b[0m\u001b[1;33m(\u001b[0m\u001b[0mself\u001b[0m\u001b[1;33m.\u001b[0m\u001b[0m_connections\u001b[0m\u001b[1;33m,\u001b[0m \u001b[0malias\u001b[0m\u001b[1;33m,\u001b[0m \u001b[0mconn\u001b[0m\u001b[1;33m)\u001b[0m\u001b[1;33m\u001b[0m\u001b[0m\n",
        "\u001b[1;32mc:\\Python27\\lib\\site-packages\\django\\db\\utils.pyc\u001b[0m in \u001b[0;36mload_backend\u001b[1;34m(backend_name)\u001b[0m\n\u001b[0;32m     25\u001b[0m     \u001b[1;31m# Look for a fully qualified database backend name\u001b[0m\u001b[1;33m\u001b[0m\u001b[1;33m\u001b[0m\u001b[0m\n\u001b[0;32m     26\u001b[0m     \u001b[1;32mtry\u001b[0m\u001b[1;33m:\u001b[0m\u001b[1;33m\u001b[0m\u001b[0m\n\u001b[1;32m---> 27\u001b[1;33m         \u001b[1;32mreturn\u001b[0m \u001b[0mimport_module\u001b[0m\u001b[1;33m(\u001b[0m\u001b[1;34m'.base'\u001b[0m\u001b[1;33m,\u001b[0m \u001b[0mbackend_name\u001b[0m\u001b[1;33m)\u001b[0m\u001b[1;33m\u001b[0m\u001b[0m\n\u001b[0m\u001b[0;32m     28\u001b[0m     \u001b[1;32mexcept\u001b[0m \u001b[0mImportError\u001b[0m \u001b[1;32mas\u001b[0m \u001b[0me_user\u001b[0m\u001b[1;33m:\u001b[0m\u001b[1;33m\u001b[0m\u001b[0m\n\u001b[0;32m     29\u001b[0m         \u001b[1;31m# The database backend wasn't found. Display a helpful error message\u001b[0m\u001b[1;33m\u001b[0m\u001b[1;33m\u001b[0m\u001b[0m\n",
        "\u001b[1;32mc:\\Python27\\lib\\site-packages\\django\\utils\\importlib.pyc\u001b[0m in \u001b[0;36mimport_module\u001b[1;34m(name, package)\u001b[0m\n\u001b[0;32m     33\u001b[0m             \u001b[0mlevel\u001b[0m \u001b[1;33m+=\u001b[0m \u001b[1;36m1\u001b[0m\u001b[1;33m\u001b[0m\u001b[0m\n\u001b[0;32m     34\u001b[0m         \u001b[0mname\u001b[0m \u001b[1;33m=\u001b[0m \u001b[0m_resolve_name\u001b[0m\u001b[1;33m(\u001b[0m\u001b[0mname\u001b[0m\u001b[1;33m[\u001b[0m\u001b[0mlevel\u001b[0m\u001b[1;33m:\u001b[0m\u001b[1;33m]\u001b[0m\u001b[1;33m,\u001b[0m \u001b[0mpackage\u001b[0m\u001b[1;33m,\u001b[0m \u001b[0mlevel\u001b[0m\u001b[1;33m)\u001b[0m\u001b[1;33m\u001b[0m\u001b[0m\n\u001b[1;32m---> 35\u001b[1;33m     \u001b[0m__import__\u001b[0m\u001b[1;33m(\u001b[0m\u001b[0mname\u001b[0m\u001b[1;33m)\u001b[0m\u001b[1;33m\u001b[0m\u001b[0m\n\u001b[0m\u001b[0;32m     36\u001b[0m     \u001b[1;32mreturn\u001b[0m \u001b[0msys\u001b[0m\u001b[1;33m.\u001b[0m\u001b[0mmodules\u001b[0m\u001b[1;33m[\u001b[0m\u001b[0mname\u001b[0m\u001b[1;33m]\u001b[0m\u001b[1;33m\u001b[0m\u001b[0m\n",
        "\u001b[1;32mc:\\Python27\\lib\\site-packages\\django\\db\\backends\\sqlite3\\base.py\u001b[0m in \u001b[0;36m<module>\u001b[1;34m()\u001b[0m\n\u001b[0;32m     13\u001b[0m \u001b[1;32mimport\u001b[0m \u001b[0msys\u001b[0m\u001b[1;33m\u001b[0m\u001b[0m\n\u001b[0;32m     14\u001b[0m \u001b[1;33m\u001b[0m\u001b[0m\n\u001b[1;32m---> 15\u001b[1;33m \u001b[1;32mfrom\u001b[0m \u001b[0mdjango\u001b[0m\u001b[1;33m.\u001b[0m\u001b[0mdb\u001b[0m \u001b[1;32mimport\u001b[0m \u001b[0mutils\u001b[0m\u001b[1;33m\u001b[0m\u001b[0m\n\u001b[0m\u001b[0;32m     16\u001b[0m \u001b[1;32mfrom\u001b[0m \u001b[0mdjango\u001b[0m\u001b[1;33m.\u001b[0m\u001b[0mdb\u001b[0m\u001b[1;33m.\u001b[0m\u001b[0mbackends\u001b[0m \u001b[1;32mimport\u001b[0m \u001b[1;33m*\u001b[0m\u001b[1;33m\u001b[0m\u001b[0m\n\u001b[0;32m     17\u001b[0m \u001b[1;32mfrom\u001b[0m \u001b[0mdjango\u001b[0m\u001b[1;33m.\u001b[0m\u001b[0mdb\u001b[0m\u001b[1;33m.\u001b[0m\u001b[0mbackends\u001b[0m\u001b[1;33m.\u001b[0m\u001b[0msignals\u001b[0m \u001b[1;32mimport\u001b[0m \u001b[0mconnection_created\u001b[0m\u001b[1;33m\u001b[0m\u001b[0m\n",
        "\u001b[1;31mImportError\u001b[0m: cannot import name utils"
       ]
      }
     ],
     "prompt_number": 68
    },
    {
     "cell_type": "code",
     "collapsed": false,
     "input": [
      "Poll.objects.all() # No polls are in the system yet."
     ],
     "language": "python",
     "metadata": {},
     "outputs": [],
     "prompt_number": "*"
    },
    {
     "cell_type": "code",
     "collapsed": false,
     "input": [
      "# Create a new Poll.\n",
      "# Support for time zones is enabled in the default settings file, so\n",
      "# Django expects a datetime with tzinfo for pub_date. Use timezone.now()\n",
      "# instead of datetime.datetime.now() and it will do the right thing.\n",
      "from django.utils import timezone\n",
      "p = Poll(question=\"What's new?\", pub_date=timezone.now())"
     ],
     "language": "python",
     "metadata": {},
     "outputs": []
    },
    {
     "cell_type": "code",
     "collapsed": false,
     "input": [
      "# Save the object into the database. You have to call save() explicitly.\n",
      "p.save()"
     ],
     "language": "python",
     "metadata": {},
     "outputs": []
    },
    {
     "cell_type": "code",
     "collapsed": false,
     "input": [
      "# Now it has an ID. Note that this might say \"1L\" instead of \"1\", depending\n",
      "# on which database you're using. That's no biggie; it just means your\n",
      "# database backend prefers to return integers as Python long integer\n",
      "# objects.\n",
      "p.id"
     ],
     "language": "python",
     "metadata": {},
     "outputs": []
    },
    {
     "cell_type": "code",
     "collapsed": false,
     "input": [
      "# Access database columns via Python attributes.\n",
      "p.question"
     ],
     "language": "python",
     "metadata": {},
     "outputs": []
    },
    {
     "cell_type": "code",
     "collapsed": false,
     "input": [
      "p.pub_date"
     ],
     "language": "python",
     "metadata": {},
     "outputs": []
    },
    {
     "cell_type": "code",
     "collapsed": false,
     "input": [
      "# Change values by changing the attributes, then calling save().\n",
      "p.question = \"What's up?\"\n",
      "p.save()"
     ],
     "language": "python",
     "metadata": {},
     "outputs": []
    },
    {
     "cell_type": "code",
     "collapsed": false,
     "input": [
      "# objects.all() displays all the polls in the database.\n",
      "Poll.objects.all()"
     ],
     "language": "python",
     "metadata": {},
     "outputs": []
    },
    {
     "cell_type": "markdown",
     "metadata": {},
     "source": [
      "Wait a minute. `<Poll: Poll object>` is, utterly, an unhelpful representation of this object. Let\u2019s fix that by editing the polls model (in the `polls/models.py` file) and adding a `__unicode__()` method to both `Poll` and `Choice`:\n",
      "\n",
      "class Poll(models.Model):\n",
      "    # ...\n",
      "    def __unicode__(self):\n",
      "        return self.question\n",
      "\n",
      "class Choice(models.Model):\n",
      "    # ...\n",
      "    def __unicode__(self):\n",
      "        return self.choice_text"
     ]
    },
    {
     "cell_type": "code",
     "collapsed": false,
     "input": [
      "cd polls"
     ],
     "language": "python",
     "metadata": {},
     "outputs": [
      {
       "output_type": "stream",
       "stream": "stdout",
       "text": [
        "C:\\Users\\Andrew\\Documents\\Kaggle\\tutorial\\django_tut\\mysite\\polls\n"
       ]
      }
     ],
     "prompt_number": 70
    },
    {
     "cell_type": "code",
     "collapsed": false,
     "input": [
      "%%writefile models.py\n",
      "from django.db import models\n",
      "\n",
      "class Poll(models.Model):\n",
      "    #added unicode method\n",
      "    def __unicode__(self):\n",
      "        return self.question\n",
      "    \n",
      "    question = models.CharField(max_length=200)\n",
      "    pub_date = models.DateTimeField('date published')\n",
      "\n",
      "class Choice(models.Model):\n",
      "    #added unicode method\n",
      "    def __unicode__(self):\n",
      "        return self.choice_text\n",
      "    \n",
      "    poll = models.ForeignKey(Poll)\n",
      "    choice_text = models.CharField(max_length=200)\n",
      "    votes = models.IntegerField(default=0)"
     ],
     "language": "python",
     "metadata": {},
     "outputs": [
      {
       "output_type": "stream",
       "stream": "stdout",
       "text": [
        "Overwriting models.py\n"
       ]
      }
     ],
     "prompt_number": 72
    },
    {
     "cell_type": "markdown",
     "metadata": {},
     "source": [
      "It\u2019s important to add `__unicode__()` methods to your models, not only for your own sanity when dealing with the interactive prompt, but also because objects\u2019 representations are used throughout Django\u2019s automatically-generated admin.\n",
      "\n",
      "Why `__unicode__()` and not `__str__()`?\n",
      "If you\u2019re familiar with Python, you might be in the habit of adding `__str__()` methods to your classes, not `__unicode__()` methods. We use `__unicode__()` here because Django models deal with Unicode by default. All data stored in your database is converted to Unicode when it\u2019s returned.\n",
      "\n",
      "Django models have a default `__str__()` method that calls `__unicode__()` and converts the result to a UTF-8 bytestring. This means that `unicode(p)` will return a Unicode string, and `str(p)` will return a normal string, with characters encoded as UTF-8.\n",
      "\n",
      "If all of this is gibberish to you, just remember to add `__unicode__()` methods to your models. With any luck, things should Just Work for you.\n",
      "Note these are normal Python methods. Let\u2019s add a custom method, just for demonstration:"
     ]
    },
    {
     "cell_type": "code",
     "collapsed": false,
     "input": [
      "%%writefile models.py\n",
      "from django.db import models\n",
      "#add support for timezones\n",
      "import datetime\n",
      "from django.utils import timezone\n",
      "\n",
      "class Poll(models.Model):\n",
      "    #Our new custom method\n",
      "    def was_published_recently(self):\n",
      "            return self.pub_date >= timezone.now() - datetime.timedelta(days=1)\n",
      "        \n",
      "    def __unicode__(self):\n",
      "        return self.question   \n",
      "    question = models.CharField(max_length=200)\n",
      "    pub_date = models.DateTimeField('date published')\n",
      "\n",
      "class Choice(models.Model):    \n",
      "    def __unicode__(self):\n",
      "        return self.choice_text    \n",
      "    poll = models.ForeignKey(Poll)\n",
      "    choice_text = models.CharField(max_length=200)\n",
      "    votes = models.IntegerField(default=0)"
     ],
     "language": "python",
     "metadata": {},
     "outputs": [
      {
       "output_type": "stream",
       "stream": "stdout",
       "text": [
        "Overwriting models.py\n"
       ]
      }
     ],
     "prompt_number": 73
    },
    {
     "cell_type": "markdown",
     "metadata": {},
     "source": [
      "Note the addition of import datetime and from django.utils import timezone, to reference Python\u2019s standard datetime module and Django\u2019s time-zone-related utilities in django.utils.timezone, respectively. If you aren\u2019t familiar with time zone handling in Python, you can learn more in the time zone support docs."
     ]
    },
    {
     "cell_type": "code",
     "collapsed": false,
     "input": [
      "# Make sure our __unicode__() addition worked.\n",
      "Poll.objects.all()"
     ],
     "language": "python",
     "metadata": {},
     "outputs": [
      {
       "ename": "NameError",
       "evalue": "name 'Poll' is not defined",
       "output_type": "pyerr",
       "traceback": [
        "\u001b[1;31m---------------------------------------------------------------------------\u001b[0m\n\u001b[1;31mNameError\u001b[0m                                 Traceback (most recent call last)",
        "\u001b[1;32m<ipython-input-75-0da34a710a8d>\u001b[0m in \u001b[0;36m<module>\u001b[1;34m()\u001b[0m\n\u001b[0;32m      1\u001b[0m \u001b[1;31m# Make sure our __unicode__() addition worked.\u001b[0m\u001b[1;33m\u001b[0m\u001b[1;33m\u001b[0m\u001b[0m\n\u001b[1;32m----> 2\u001b[1;33m \u001b[0mPoll\u001b[0m\u001b[1;33m.\u001b[0m\u001b[0mobjects\u001b[0m\u001b[1;33m.\u001b[0m\u001b[0mall\u001b[0m\u001b[1;33m(\u001b[0m\u001b[1;33m)\u001b[0m\u001b[1;33m\u001b[0m\u001b[0m\n\u001b[0m",
        "\u001b[1;31mNameError\u001b[0m: name 'Poll' is not defined"
       ]
      }
     ],
     "prompt_number": 75
    },
    {
     "cell_type": "code",
     "collapsed": false,
     "input": [
      "# Django provides a rich database lookup API that's entirely driven by\n",
      "# keyword arguments.\n",
      "Poll.objects.filter(id=1)"
     ],
     "language": "python",
     "metadata": {},
     "outputs": []
    },
    {
     "cell_type": "code",
     "collapsed": false,
     "input": [
      "Poll.objects.filter(question__startswith='What')"
     ],
     "language": "python",
     "metadata": {},
     "outputs": []
    },
    {
     "cell_type": "code",
     "collapsed": false,
     "input": [
      "# Get the poll that was published this year.\n",
      "from django.utils import timezone\n",
      "current_year = timezone.now().year\n",
      "Poll.objects.get(pub_date__year=current_year)"
     ],
     "language": "python",
     "metadata": {},
     "outputs": []
    },
    {
     "cell_type": "code",
     "collapsed": false,
     "input": [
      "# Request an ID that doesn't exist, this will raise an exception.\n",
      "Poll.objects.get(id=2)"
     ],
     "language": "python",
     "metadata": {},
     "outputs": []
    },
    {
     "cell_type": "code",
     "collapsed": false,
     "input": [
      "# Lookup by a primary key is the most common case, so Django provides a\n",
      "# shortcut for primary-key exact lookups.\n",
      "# The following is identical to Poll.objects.get(id=1).\n",
      "Poll.objects.get(pk=1)"
     ],
     "language": "python",
     "metadata": {},
     "outputs": []
    },
    {
     "cell_type": "code",
     "collapsed": false,
     "input": [
      "# Make sure our custom method worked.\n",
      "p = Poll.objects.get(pk=1)\n",
      "p.was_published_recently()"
     ],
     "language": "python",
     "metadata": {},
     "outputs": []
    },
    {
     "cell_type": "code",
     "collapsed": false,
     "input": [
      "# Give the Poll a couple of Choices. The create call constructs a new\n",
      "# Choice object, does the INSERT statement, adds the choice to the set\n",
      "# of available choices and returns the new Choice object. Django creates\n",
      "# a set to hold the \"other side\" of a ForeignKey relation\n",
      "# (e.g. a poll's choices) which can be accessed via the API.\n",
      "p = Poll.objects.get(pk=1)"
     ],
     "language": "python",
     "metadata": {},
     "outputs": []
    },
    {
     "cell_type": "code",
     "collapsed": false,
     "input": [
      "# Display any choices from the related object set -- none so far.\n",
      "p.choice_set.all()"
     ],
     "language": "python",
     "metadata": {},
     "outputs": []
    },
    {
     "cell_type": "code",
     "collapsed": false,
     "input": [
      "# Create three choices.\n",
      "p.choice_set.create(choice_text='Not much', votes=0)\n",
      "p.choice_set.create(choice_text='The sky', votes=0)\n",
      "c = p.choice_set.create(choice_text='Just hacking again', votes=0)"
     ],
     "language": "python",
     "metadata": {},
     "outputs": []
    },
    {
     "cell_type": "code",
     "collapsed": false,
     "input": [
      "# Choice objects have API access to their related Poll objects.\n",
      "c.poll"
     ],
     "language": "python",
     "metadata": {},
     "outputs": []
    },
    {
     "cell_type": "code",
     "collapsed": false,
     "input": [
      "# And vice versa: Poll objects get access to Choice objects.\n",
      "p.choice_set.all()"
     ],
     "language": "python",
     "metadata": {},
     "outputs": []
    },
    {
     "cell_type": "code",
     "collapsed": false,
     "input": [
      "p.choice_set.count()"
     ],
     "language": "python",
     "metadata": {},
     "outputs": []
    },
    {
     "cell_type": "code",
     "collapsed": false,
     "input": [
      "# The API automatically follows relationships as far as you need.\n",
      "# Use double underscores to separate relationships.\n",
      "# This works as many levels deep as you want; there's no limit.\n",
      "# Find all Choices for any poll whose pub_date is in this year\n",
      "# (reusing the 'current_year' variable we created above).\n",
      "Choice.objects.filter(poll__pub_date__year=current_year)"
     ],
     "language": "python",
     "metadata": {},
     "outputs": []
    },
    {
     "cell_type": "code",
     "collapsed": false,
     "input": [
      "# Let's delete one of the choices. Use delete() for that.\n",
      "c = p.choice_set.filter(choice_text__startswith='Just hacking')\n",
      "c.delete()    "
     ],
     "language": "python",
     "metadata": {},
     "outputs": []
    },
    {
     "cell_type": "markdown",
     "metadata": {},
     "source": [
      "For more information on model relations, see Accessing related objects. For more on how to use double underscores to perform field lookups via the API, see Field lookups. For full details on the database API, see our Database API reference."
     ]
    },
    {
     "cell_type": "markdown",
     "metadata": {},
     "source": [
      "###Philosophy\n",
      "Generating admin sites for your staff or clients to add, change and delete content is tedious work that doesn\u2019t require much creativity. For that reason, Django entirely automates creation of admin interfaces for models.\n",
      "\n",
      "Django was written in a newsroom environment, with a very clear separation between \u201ccontent publishers\u201d and the \u201cpublic\u201d site. Site managers use the system to add news stories, events, sports scores, etc., and that content is displayed on the public site. Django solves the problem of creating a unified interface for site administrators to edit content.\n",
      "\n",
      "The admin isn\u2019t intended to be used by site visitors. It\u2019s for site managers.\n",
      "\n",
      "###Activate the admin site\n",
      "The Django admin site is not activated by default \u2013 it\u2019s an opt-in thing. To activate the admin site for your installation, do these three things:\n",
      "\n",
      "* Uncomment \"`django.contrib.admin`\" in the `INSTALLED_APPS` setting.\n",
      "\n",
      "* Run `python manage.py syncdb`. Since you have added a new application to `INSTALLED_APPS`, the database tables need to be updated.\n",
      "\n",
      "* Edit your `mysite/urls.py` file and uncomment the lines that reference the admin \u2013 there are three lines in total to uncomment. \n",
      "\n",
      "The process is carried out below:"
     ]
    },
    {
     "cell_type": "code",
     "collapsed": false,
     "input": [
      "cd mysite/"
     ],
     "language": "python",
     "metadata": {},
     "outputs": [
      {
       "output_type": "stream",
       "stream": "stdout",
       "text": [
        "C:\\Users\\Andrew\\Documents\\Kaggle\\tutorial\\django_tut\\mysite\\mysite\n"
       ]
      }
     ],
     "prompt_number": 81
    },
    {
     "cell_type": "code",
     "collapsed": false,
     "input": [
      "%%writefile settings.py\n",
      "# Django settings for mysite project.\n",
      "\n",
      "DEBUG = True\n",
      "TEMPLATE_DEBUG = DEBUG\n",
      "\n",
      "ADMINS = (\n",
      "    # ('Your Name', 'your_email@example.com'),\n",
      ")\n",
      "\n",
      "MANAGERS = ADMINS\n",
      "\n",
      "DATABASES = {\n",
      "    'default': {\n",
      "        'ENGINE': 'django.db.backends.sqlite3', # Add 'postgresql_psycopg2', 'mysql', 'sqlite3' or 'oracle'.\n",
      "        'NAME': r'\\\\AGC\\Users\\Andrew\\Documents\\Kaggle\\tutorial\\django_tut\\mysite\\sqlite3.db', # Or path to database file if using sqlite3.\n",
      "        # The following settings are not used with sqlite3:\n",
      "        'USER': '',\n",
      "        'PASSWORD': '',\n",
      "        'HOST': '',                      # Empty for localhost through domain sockets or '127.0.0.1' for localhost through TCP.\n",
      "        'PORT': '',                      # Set to empty string for default.\n",
      "    }\n",
      "}\n",
      "\n",
      "# Hosts/domain names that are valid for this site; required if DEBUG is False\n",
      "# See https://docs.djangoproject.com/en/1.5/ref/settings/#allowed-hosts\n",
      "ALLOWED_HOSTS = []\n",
      "\n",
      "# Local time zone for this installation. Choices can be found here:\n",
      "# http://en.wikipedia.org/wiki/List_of_tz_zones_by_name\n",
      "# although not all choices may be available on all operating systems.\n",
      "# In a Windows environment this must be set to your system time zone.\n",
      "TIME_ZONE = 'America/Chicago'\n",
      "\n",
      "# Language code for this installation. All choices can be found here:\n",
      "# http://www.i18nguy.com/unicode/language-identifiers.html\n",
      "LANGUAGE_CODE = 'en-us'\n",
      "\n",
      "SITE_ID = 1\n",
      "\n",
      "# If you set this to False, Django will make some optimizations so as not\n",
      "# to load the internationalization machinery.\n",
      "USE_I18N = True\n",
      "\n",
      "# If you set this to False, Django will not format dates, numbers and\n",
      "# calendars according to the current locale.\n",
      "USE_L10N = True\n",
      "\n",
      "# If you set this to False, Django will not use timezone-aware datetimes.\n",
      "USE_TZ = True\n",
      "\n",
      "# Absolute filesystem path to the directory that will hold user-uploaded files.\n",
      "# Example: \"/var/www/example.com/media/\"\n",
      "MEDIA_ROOT = ''\n",
      "\n",
      "# URL that handles the media served from MEDIA_ROOT. Make sure to use a\n",
      "# trailing slash.\n",
      "# Examples: \"http://example.com/media/\", \"http://media.example.com/\"\n",
      "MEDIA_URL = ''\n",
      "\n",
      "# Absolute path to the directory static files should be collected to.\n",
      "# Don't put anything in this directory yourself; store your static files\n",
      "# in apps' \"static/\" subdirectories and in STATICFILES_DIRS.\n",
      "# Example: \"/var/www/example.com/static/\"\n",
      "STATIC_ROOT = ''\n",
      "\n",
      "# URL prefix for static files.\n",
      "# Example: \"http://example.com/static/\", \"http://static.example.com/\"\n",
      "STATIC_URL = '/static/'\n",
      "\n",
      "# Additional locations of static files\n",
      "STATICFILES_DIRS = (\n",
      "    # Put strings here, like \"/home/html/static\" or \"C:/www/django/static\".\n",
      "    # Always use forward slashes, even on Windows.\n",
      "    # Don't forget to use absolute paths, not relative paths.\n",
      ")\n",
      "\n",
      "# List of finder classes that know how to find static files in\n",
      "# various locations.\n",
      "STATICFILES_FINDERS = (\n",
      "    'django.contrib.staticfiles.finders.FileSystemFinder',\n",
      "    'django.contrib.staticfiles.finders.AppDirectoriesFinder',\n",
      "#    'django.contrib.staticfiles.finders.DefaultStorageFinder',\n",
      ")\n",
      "\n",
      "# Make this unique, and don't share it with anybody.\n",
      "SECRET_KEY = '6!rjez*0oag4u79e+r9skinhw!jyrq)s(o+(#q_tdbb1hb6g2#'\n",
      "\n",
      "# List of callables that know how to import templates from various sources.\n",
      "TEMPLATE_LOADERS = (\n",
      "    'django.template.loaders.filesystem.Loader',\n",
      "    'django.template.loaders.app_directories.Loader',\n",
      "#     'django.template.loaders.eggs.Loader',\n",
      ")\n",
      "\n",
      "MIDDLEWARE_CLASSES = (\n",
      "    'django.middleware.common.CommonMiddleware',\n",
      "    'django.contrib.sessions.middleware.SessionMiddleware',\n",
      "    'django.middleware.csrf.CsrfViewMiddleware',\n",
      "    'django.contrib.auth.middleware.AuthenticationMiddleware',\n",
      "    'django.contrib.messages.middleware.MessageMiddleware',\n",
      "    # Uncomment the next line for simple clickjacking protection:\n",
      "    # 'django.middleware.clickjacking.XFrameOptionsMiddleware',\n",
      ")\n",
      "\n",
      "ROOT_URLCONF = 'mysite.urls'\n",
      "\n",
      "# Python dotted path to the WSGI application used by Django's runserver.\n",
      "WSGI_APPLICATION = 'mysite.wsgi.application'\n",
      "\n",
      "TEMPLATE_DIRS = (\n",
      "    # Put strings here, like \"/home/html/django_templates\" or \"C:/www/django/templates\".\n",
      "    # Always use forward slashes, even on Windows.\n",
      "    # Don't forget to use absolute paths, not relative paths.\n",
      ")\n",
      "\n",
      "INSTALLED_APPS = (\n",
      "    'django.contrib.auth',\n",
      "    'django.contrib.contenttypes',\n",
      "    'django.contrib.sessions',\n",
      "    'django.contrib.sites',\n",
      "    'django.contrib.messages',\n",
      "    'django.contrib.staticfiles',\n",
      "    # Uncomment the next line to enable the admin:\n",
      "     'django.contrib.admin', #<--- we uncommented this\n",
      "    # Uncomment the next line to enable admin documentation:\n",
      "    # 'django.contrib.admindocs'\n",
      "    'polls',\n",
      ")\n",
      "\n",
      "# A sample logging configuration. The only tangible logging\n",
      "# performed by this configuration is to send an email to\n",
      "# the site admins on every HTTP 500 error when DEBUG=False.\n",
      "# See http://docs.djangoproject.com/en/dev/topics/logging for\n",
      "# more details on how to customize your logging configuration.\n",
      "LOGGING = {\n",
      "    'version': 1,\n",
      "    'disable_existing_loggers': False,\n",
      "    'filters': {\n",
      "        'require_debug_false': {\n",
      "            '()': 'django.utils.log.RequireDebugFalse'\n",
      "        }\n",
      "    },\n",
      "    'handlers': {\n",
      "        'mail_admins': {\n",
      "            'level': 'ERROR',\n",
      "            'filters': ['require_debug_false'],\n",
      "            'class': 'django.utils.log.AdminEmailHandler'\n",
      "        }\n",
      "    },\n",
      "    'loggers': {\n",
      "        'django.request': {\n",
      "            'handlers': ['mail_admins'],\n",
      "            'level': 'ERROR',\n",
      "            'propagate': True,\n",
      "        },\n",
      "    }\n",
      "}\n",
      "#ignore the following error when using ipython:\n",
      "#/django/db/backends/sqlite3/base.py:50: RuntimeWarning:\n",
      "#SQLite received a naive datetime (2012-11-02 11:20:15.156506) while time zone support is active.\n",
      "\n",
      "import warnings\n",
      "import exceptions\n",
      "warnings.filterwarnings(\"ignore\", category=exceptions.RuntimeWarning, module='django.db.backends.sqlite3.base', lineno=53)"
     ],
     "language": "python",
     "metadata": {},
     "outputs": [
      {
       "output_type": "stream",
       "stream": "stdout",
       "text": [
        "Overwriting settings.py\n"
       ]
      }
     ],
     "prompt_number": 84
    },
    {
     "cell_type": "code",
     "collapsed": false,
     "input": [
      "%%writefile urls.py\n",
      "from django.conf.urls import patterns, include, url\n",
      "\n",
      "# Uncomment the next two lines to enable the admin:\n",
      "from django.contrib import admin\n",
      "admin.autodiscover()\n",
      "\n",
      "urlpatterns = patterns('',\n",
      "    # Examples:\n",
      "    # url(r'^$', 'mysite.views.home', name='home'),\n",
      "    # url(r'^mysite/', include('mysite.foo.urls')),\n",
      "\n",
      "    # Uncomment the admin/doc line below to enable admin documentation:\n",
      "    # url(r'^admin/doc/', include('django.contrib.admindocs.urls')),\n",
      "\n",
      "    # Uncomment the next line to enable the admin:\n",
      "     url(r'^admin/', include(admin.site.urls)),\n",
      ")\n"
     ],
     "language": "python",
     "metadata": {},
     "outputs": [
      {
       "output_type": "stream",
       "stream": "stdout",
       "text": [
        "Overwriting urls.py\n"
       ]
      }
     ],
     "prompt_number": 85
    },
    {
     "cell_type": "markdown",
     "metadata": {},
     "source": [
      "This file is a `URLconf`; we\u2019ll dig into `URLconfs` in the next tutorial. For now, all you need to know is that it maps URL roots to applications.\n",
      "\n",
      "###Start the development server\n",
      "Let\u2019s start the development server and explore the admin site."
     ]
    },
    {
     "cell_type": "code",
     "collapsed": false,
     "input": [
      "cd .."
     ],
     "language": "python",
     "metadata": {},
     "outputs": [
      {
       "output_type": "stream",
       "stream": "stdout",
       "text": [
        "C:\\Users\\Andrew\\Documents\\Kaggle\\tutorial\\django_tut\\mysite\n"
       ]
      }
     ],
     "prompt_number": 89
    },
    {
     "cell_type": "code",
     "collapsed": false,
     "input": [
      "dev_server.start()"
     ],
     "language": "python",
     "metadata": {},
     "outputs": [
      {
       "output_type": "stream",
       "stream": "stdout",
       "text": [
        "Im running!\n"
       ]
      }
     ],
     "prompt_number": 90
    },
    {
     "cell_type": "markdown",
     "metadata": {},
     "source": [
      "Now, open a Web browser and go to \u201c/admin/\u201d on your local domain \u2013 e.g., [http://127.0.0.1:8000/admin/](http://127.0.0.1:8000/admin/). You should see the admin\u2019s login screen:\n",
      "\n",
      "![pic]()\n",
      "\n",
      "###Enter the admin site\n",
      "Now, try logging in. (You created a superuser account in the first part of this tutorial, remember? If you didn\u2019t create one or forgot the password you can [create another one](https://docs.djangoproject.com/en/1.5/topics/auth/default/#topics-auth-creating-superusers).) You should see the Django admin index page:\n",
      "\n",
      "![pic2]()\n",
      "\n",
      "###Make the poll app modifiable in the admin\n",
      "But where\u2019s our poll app? It\u2019s not displayed on the admin index page.\n",
      "\n",
      "Just one thing to do: we need to tell the admin that Poll objects have an admin interface. To do this, create a file called admin.py in your polls directory, and edit it to look like this:\n"
     ]
    },
    {
     "cell_type": "code",
     "collapsed": false,
     "input": [
      "%%writefile admin.py\n",
      "from django.contrib import admin\n",
      "from polls.models import Poll\n",
      "\n",
      "admin.site.register(Poll)"
     ],
     "language": "python",
     "metadata": {},
     "outputs": [
      {
       "output_type": "stream",
       "stream": "stdout",
       "text": [
        "Writing admin.py\n"
       ]
      }
     ],
     "prompt_number": 91
    },
    {
     "cell_type": "markdown",
     "metadata": {},
     "source": [
      "You\u2019ll need to restart the development server to see your changes. Normally, the server auto-reloads code every time you modify a file, but the action of creating a new file doesn\u2019t trigger the auto-reloading logic.\n",
      "\n",
      "###Explore the free admin functionality\n",
      "Now that we\u2019ve registered Poll, Django knows that it should be displayed on the admin index page:\n",
      "\n",
      "![pic3]()\n",
      "\n",
      "Click \u201cPolls.\u201d Now you\u2019re at the \u201cchange list\u201d page for polls. This page displays all the polls in the database and lets you choose one to change it. There\u2019s the \u201cWhat\u2019s up?\u201d poll we created in the first tutorial:\n",
      "\n",
      "![pic4]()\n",
      "\n",
      "Click \u201cPolls.\u201d Now you\u2019re at the \u201cchange list\u201d page for polls. This page displays all the polls in the database and lets you choose one to change it. There\u2019s the \u201cWhat\u2019s up?\u201d poll we created in the first tutorial:\n",
      "\n",
      "![pic5]()\n",
      "\n",
      "Click the \u201cWhat\u2019s up?\u201d poll to edit it:\n",
      "\n",
      "![pic6]()\n",
      "\n",
      "##Things to note here:\n",
      "\n",
      "* The form is automatically generated from the Poll model.\n",
      "* The different model field types (DateTimeField, CharField) correspond to the appropriate HTML input widget. Each type of field knows how to display itself in the Django admin.\n",
      "* Each DateTimeField gets free JavaScript shortcuts. Dates get a \u201cToday\u201d shortcut and calendar popup, and times get a \u201cNow\u201d shortcut and a convenient popup that lists commonly entered times.\n",
      "\n",
      "###The bottom part of the page gives you a couple of options:\n",
      "\n",
      "* Save \u2013 Saves changes and returns to the change-list page for this type of object.\n",
      "* Save and continue editing \u2013 Saves changes and reloads the admin page for this object.\n",
      "* Save and add another \u2013 Saves changes and loads a new, blank form for this type of object.\n",
      "* Delete \u2013 Displays a delete confirmation page.\n",
      "* If the value of \u201cDate published\u201d doesn\u2019t match the time when you created the poll in Tutorial 1, it probably means you forgot to set the correct value for the TIME_ZONE setting. Change it, reload the page and check that the correct value appears.\n",
      "\n",
      "Change the \u201cDate published\u201d by clicking the \u201cToday\u201d and \u201cNow\u201d shortcuts. Then click \u201cSave and continue editing.\u201d Then click \u201cHistory\u201d in the upper right. You\u2019ll see a page listing all changes made to this object via the Django admin, with the timestamp and username of the person who made the change:\n",
      "\n",
      "![pic7]()\n",
      "\n",
      "###Customize the admin form\n",
      "Take a few minutes to marvel at all the code you didn\u2019t have to write. By registering the Poll model with admin.site.register(Poll), Django was able to construct a default form representation. Often, you\u2019ll want to customize how the admin form looks and works. You\u2019ll do this by telling Django the options you want when you register the object.\n",
      "\n",
      "Let\u2019s see how this works by re-ordering the fields on the edit form. Replace the admin.site.register(Poll) line with:"
     ]
    },
    {
     "cell_type": "code",
     "collapsed": false,
     "input": [
      "%%writefile admin.py ##this might not be right\n",
      "from django.contrib import admin\n",
      "from polls.models import Poll\n",
      "\n",
      "class PollAdmin(admin.ModelAdmin):\n",
      "    fields = ['pub_date', 'question']\n",
      "\n",
      "admin.site.register(Poll, PollAdmin)"
     ],
     "language": "python",
     "metadata": {},
     "outputs": []
    },
    {
     "cell_type": "markdown",
     "metadata": {},
     "source": [
      "You\u2019ll follow this pattern \u2013 create a model admin object, then pass it as the second argument to admin.site.register() \u2013 any time you need to change the admin options for an object.\n",
      "\n",
      "This particular change above makes the \u201cPublication date\u201d come before the \u201cQuestion\u201d field:\n",
      "\n",
      "![pic8]()\n",
      "\n",
      "This isn\u2019t impressive with only two fields, but for admin forms with dozens of fields, choosing an intuitive order is an important usability detail.\n",
      "\n",
      "And speaking of forms with dozens of fields, you might want to split the form up into fieldsets:"
     ]
    },
    {
     "cell_type": "markdown",
     "metadata": {},
     "source": [
      "###Version Control"
     ]
    },
    {
     "cell_type": "code",
     "collapsed": false,
     "input": [
      "cd C:\\Users\\Andrew\\Documents\\Kaggle\\tutorial\\django_tut"
     ],
     "language": "python",
     "metadata": {},
     "outputs": [
      {
       "output_type": "stream",
       "stream": "stdout",
       "text": [
        "C:\\Users\\Andrew\\Documents\\Kaggle\\tutorial\\django_tut\n"
       ]
      }
     ],
     "prompt_number": 76
    },
    {
     "cell_type": "code",
     "collapsed": false,
     "input": [
      "!git add ."
     ],
     "language": "python",
     "metadata": {},
     "outputs": [],
     "prompt_number": "*"
    },
    {
     "cell_type": "code",
     "collapsed": false,
     "input": [
      "!git add django_tut-official.ipynb"
     ],
     "language": "python",
     "metadata": {},
     "outputs": [],
     "prompt_number": 77
    },
    {
     "cell_type": "code",
     "collapsed": false,
     "input": [
      "!git commit"
     ],
     "language": "python",
     "metadata": {},
     "outputs": [
      {
       "output_type": "stream",
       "stream": "stdout",
       "text": [
        "[master 7a7f3fe] refined tutorial part 1\n",
        " 1 file changed, 261 insertions(+), 167 deletions(-)\n"
       ]
      }
     ],
     "prompt_number": 78
    },
    {
     "cell_type": "code",
     "collapsed": false,
     "input": [],
     "language": "python",
     "metadata": {},
     "outputs": []
    }
   ],
   "metadata": {}
  }
 ]
}