{
 "metadata": {
  "name": "django_tut-official"
 },
 "nbformat": 3,
 "nbformat_minor": 0,
 "worksheets": [
  {
   "cells": [
    {
     "cell_type": "markdown",
     "metadata": {},
     "source": [
      "##Django Interactive Tutorial | by Andrew Conti\n",
      "\n",
      "An interactive tutorial that guides you through creating your first Django project. This notebook goes along with the offical guide from the Django project's website. This tutorial will take you through the process of creating a basic poll application.\n",
      "\n",
      "The tutorial has two parts:\n",
      "\n",
      "1. *A public site that lets people view polls and vote in them.*\n",
      "2. *An admin site that lets you add, change and delete polls.* \n",
      "\n",
      "\n",
      "Go to the Django project's website [here](https://docs.djangoproject.com/en/1.2/intro/tutorial01/#intro-tutorial01) to follow along. \n"
     ]
    },
    {
     "cell_type": "markdown",
     "metadata": {},
     "source": [
      "First make sure you have Django Installed or install it using `pip install Django`. Test the installation with the code below:"
     ]
    },
    {
     "cell_type": "code",
     "collapsed": false,
     "input": [
      "import django\n",
      "print django.VERSION"
     ],
     "language": "python",
     "metadata": {},
     "outputs": [
      {
       "output_type": "stream",
       "stream": "stdout",
       "text": [
        "(1, 5, 1, 'final', 0)\n"
       ]
      }
     ],
     "prompt_number": 1
    },
    {
     "cell_type": "code",
     "collapsed": false,
     "input": [
      "First , Let's start a new Django Project "
     ],
     "language": "python",
     "metadata": {},
     "outputs": []
    },
    {
     "cell_type": "code",
     "collapsed": false,
     "input": [
      "# uncomment the line below when running for the first time.  \n",
      "!django-admin.py startproject mysite"
     ],
     "language": "python",
     "metadata": {},
     "outputs": [],
     "prompt_number": 3
    },
    {
     "cell_type": "markdown",
     "metadata": {},
     "source": [
      "Let's take a look at what the above code just did."
     ]
    },
    {
     "cell_type": "code",
     "collapsed": false,
     "input": [
      "cd mysite\\mysite"
     ],
     "language": "python",
     "metadata": {},
     "outputs": [
      {
       "output_type": "stream",
       "stream": "stdout",
       "text": [
        "C:\\Users\\Andrew\\Documents\\Kaggle\\tutorial\\django_tut\\mysite\\mysite\n"
       ]
      }
     ],
     "prompt_number": 8
    },
    {
     "cell_type": "code",
     "collapsed": false,
     "input": [
      "ls"
     ],
     "language": "python",
     "metadata": {},
     "outputs": [
      {
       "output_type": "stream",
       "stream": "stdout",
       "text": [
        " Volume in drive C is OS\n",
        " Volume Serial Number is EA4A-2994\n",
        "\n",
        " Directory of C:\\Users\\Andrew\\Documents\\Kaggle\\tutorial\\django_tut\\mysite\\mysite\n",
        "\n",
        "07/09/2013  02:09 PM    <DIR>          .\n",
        "07/09/2013  02:09 PM    <DIR>          ..\n",
        "07/09/2013  02:09 PM                 0 __init__.py\n",
        "07/09/2013  02:09 PM             5,350 settings.py\n",
        "07/09/2013  02:09 PM               556 urls.py\n",
        "07/09/2013  02:09 PM             1,419 wsgi.py\n",
        "               4 File(s)          7,325 bytes\n",
        "               2 Dir(s)  743,395,164,160 bytes free\n"
       ]
      }
     ],
     "prompt_number": 9
    },
    {
     "cell_type": "markdown",
     "metadata": {},
     "source": [
      "###The files inside are:\n",
      "\n",
      "These files are:\n",
      "\n",
      "* __init__.py: An empty file that tells Python that this directory should be considered a Python package. (Read more about packages in the official Python docs if you\u2019re a Python beginner.)\n",
      "* manage.py: A command-line utility that lets you interact with this Django project in various ways. You can read all the details about manage.py in django-admin.py and manage.py.\n",
      "* settings.py: Settings/configuration for this Django project. Django settings will tell you all about how settings work.\n",
      "* urls.py: The URL declarations for this Django project; a \u201ctable of contents\u201d of your Django-powered site. You can read more about URLs in URL dispatcher.\n",
      "\n",
      "The command line experssion:\n",
      "\n",
      "    manage.py runserver\n",
      "\n",
      "starts a server that runs on local host [http://127.0.0.1:8000/](http://127.0.0.1:8000/) for development. To keep our notebook interactive, lets run our development server as a subprocess, so it can run in the background as we continue to develop our site. After clicking this link,  [http://127.0.0.1:8000/](http://127.0.0.1:8000/),  you should see the dev server in your browser (Make sure to open a new tab). Whenever you make changes to your server it will autorestart and so it supports iterative dev process. To make things easy, we will include the comman to open the server as a background process in a function called `dev_sever` so that we can call it with ease later in the notebook."
     ]
    },
    {
     "cell_type": "code",
     "collapsed": false,
     "input": [
      "class dev_server(object):\n",
      "    def __init__(self):\n",
      "        self.server = 'no_server'\n",
      "    def start(self):\n",
      "        '''\n",
      "        starts the server\n",
      "        '''\n",
      "        import subprocess\n",
      "        self.server = subprocess.Popen([\"python\", \"manage.py\", \"runserver\"])\n",
      "        print \"Im running!\"\n",
      "    def end(self):\n",
      "        '''\n",
      "        ends the sever\n",
      "        '''\n",
      "        if self.server == 'no_server':\n",
      "            print \"there is no sever!\"\n",
      "        else:\n",
      "            self.server.terminate()\n",
      "            print \"I've Stopped.\"            "
     ],
     "language": "python",
     "metadata": {},
     "outputs": [],
     "prompt_number": 34
    },
    {
     "cell_type": "code",
     "collapsed": false,
     "input": [
      "dev_server = dev_server() # instantiate our object"
     ],
     "language": "python",
     "metadata": {},
     "outputs": [],
     "prompt_number": 35
    },
    {
     "cell_type": "code",
     "collapsed": false,
     "input": [
      "dev_server.start()"
     ],
     "language": "python",
     "metadata": {},
     "outputs": [
      {
       "output_type": "stream",
       "stream": "stdout",
       "text": [
        "Im running!\n"
       ]
      }
     ],
     "prompt_number": 16
    },
    {
     "cell_type": "markdown",
     "metadata": {},
     "source": [
      "Click here, [http://127.0.0.1:8000/](http://127.0.0.1:8000/), to check it out!\n",
      "\n",
      "You should see somthing like this:\n",
      "\n",
      "![standard]('\\\\AGC\\Users\\Andrew\\Documents\\Kaggle\\tutorial\\django_tut\\images\\django_worked_standard.png')"
     ]
    },
    {
     "cell_type": "markdown",
     "metadata": {},
     "source": [
      "###Database setup\n",
      "\n",
      "Now, edit settings.py. It\u2019s a normal Python module with module-level variables representing Django settings. Change the following keys in the DATABASES 'default' item to match your databases connection settings.\n",
      "\n",
      "* **ENGINE** \u2013 Either 'django.db.backends.postgresql_psycopg2', 'django.db.backends.mysql' or 'django.db.backends.sqlite3'. Other backends are also available.\n",
      "\n",
      "* NAME \u2013 The name of your database. If you\u2019re using SQLite, the database will be a file on your computer; in that case, NAME should be the full absolute path, including filename, of that file. If the file doesn\u2019t exist, it will automatically be created when you synchronize the database for the first time (see below).\n",
      "\n",
      "* When specifying the path, always use forward slashes, even on Windows (e.g. C:/homes/user/mysite/sqlite3.db).\n",
      "\n",
      "* USER \u2013 Your database username (not used for SQLite).\n",
      "\n",
      "* PASSWORD \u2013 Your database password (not used for SQLite).\n",
      "\n",
      "* HOST \u2013 The host your database is on. Leave this as an empty string if your database server is on the same physical machine (not used for SQLite).\n",
      "\n",
      "*If you\u2019re new to databases, we recommend simply using SQLite (by setting ENGINE to 'django.db.backends.sqlite3'). SQLite is included as part of Python 2.5 and later, so you won\u2019t need to install anything else.*\n",
      "\n",
      "Let's navigate to the settings file:"
     ]
    },
    {
     "cell_type": "code",
     "collapsed": false,
     "input": [
      "cd mysite/"
     ],
     "language": "python",
     "metadata": {},
     "outputs": [
      {
       "output_type": "stream",
       "stream": "stdout",
       "text": [
        "C:\\Users\\Andrew\\Documents\\Kaggle\\tutorial\\django_tut\\mysite\\mysite\n"
       ]
      }
     ],
     "prompt_number": 50
    },
    {
     "cell_type": "code",
     "collapsed": false,
     "input": [
      "%%writefile settings.py\n",
      "# Django settings for mysite project.\n",
      "\n",
      "DEBUG = True\n",
      "TEMPLATE_DEBUG = DEBUG\n",
      "\n",
      "ADMINS = (\n",
      "    # ('Your Name', 'your_email@example.com'),\n",
      ")\n",
      "\n",
      "MANAGERS = ADMINS\n",
      "\n",
      "DATABASES = {\n",
      "    'default': {\n",
      "        'ENGINE': 'django.db.backends.sqlite3', # Add 'postgresql_psycopg2', 'mysql', 'sqlite3' or 'oracle'.\n",
      "        'NAME': '\\\\AGC\\Users\\Andrew\\Documents\\Kaggle\\tutorial\\django_tut\\mysite\\sqlite3.db', # Or path to database file if using sqlite3.\n",
      "        # The following settings are not used with sqlite3:\n",
      "        'USER': '',\n",
      "        'PASSWORD': '',\n",
      "        'HOST': '',                      # Empty for localhost through domain sockets or '127.0.0.1' for localhost through TCP.\n",
      "        'PORT': '',                      # Set to empty string for default.\n",
      "    }\n",
      "}\n",
      "\n",
      "# Hosts/domain names that are valid for this site; required if DEBUG is False\n",
      "# See https://docs.djangoproject.com/en/1.5/ref/settings/#allowed-hosts\n",
      "ALLOWED_HOSTS = []\n",
      "\n",
      "# Local time zone for this installation. Choices can be found here:\n",
      "# http://en.wikipedia.org/wiki/List_of_tz_zones_by_name\n",
      "# although not all choices may be available on all operating systems.\n",
      "# In a Windows environment this must be set to your system time zone.\n",
      "TIME_ZONE = 'America/Chicago'\n",
      "\n",
      "# Language code for this installation. All choices can be found here:\n",
      "# http://www.i18nguy.com/unicode/language-identifiers.html\n",
      "LANGUAGE_CODE = 'en-us'\n",
      "\n",
      "SITE_ID = 1\n",
      "\n",
      "# If you set this to False, Django will make some optimizations so as not\n",
      "# to load the internationalization machinery.\n",
      "USE_I18N = True\n",
      "\n",
      "# If you set this to False, Django will not format dates, numbers and\n",
      "# calendars according to the current locale.\n",
      "USE_L10N = True\n",
      "\n",
      "# If you set this to False, Django will not use timezone-aware datetimes.\n",
      "USE_TZ = True\n",
      "\n",
      "# Absolute filesystem path to the directory that will hold user-uploaded files.\n",
      "# Example: \"/var/www/example.com/media/\"\n",
      "MEDIA_ROOT = ''\n",
      "\n",
      "# URL that handles the media served from MEDIA_ROOT. Make sure to use a\n",
      "# trailing slash.\n",
      "# Examples: \"http://example.com/media/\", \"http://media.example.com/\"\n",
      "MEDIA_URL = ''\n",
      "\n",
      "# Absolute path to the directory static files should be collected to.\n",
      "# Don't put anything in this directory yourself; store your static files\n",
      "# in apps' \"static/\" subdirectories and in STATICFILES_DIRS.\n",
      "# Example: \"/var/www/example.com/static/\"\n",
      "STATIC_ROOT = ''\n",
      "\n",
      "# URL prefix for static files.\n",
      "# Example: \"http://example.com/static/\", \"http://static.example.com/\"\n",
      "STATIC_URL = '/static/'\n",
      "\n",
      "# Additional locations of static files\n",
      "STATICFILES_DIRS = (\n",
      "    # Put strings here, like \"/home/html/static\" or \"C:/www/django/static\".\n",
      "    # Always use forward slashes, even on Windows.\n",
      "    # Don't forget to use absolute paths, not relative paths.\n",
      ")\n",
      "\n",
      "# List of finder classes that know how to find static files in\n",
      "# various locations.\n",
      "STATICFILES_FINDERS = (\n",
      "    'django.contrib.staticfiles.finders.FileSystemFinder',\n",
      "    'django.contrib.staticfiles.finders.AppDirectoriesFinder',\n",
      "#    'django.contrib.staticfiles.finders.DefaultStorageFinder',\n",
      ")\n",
      "\n",
      "# Make this unique, and don't share it with anybody.\n",
      "SECRET_KEY = '6!rjez*0oag4u79e+r9skinhw!jyrq)s(o+(#q_tdbb1hb6g2#'\n",
      "\n",
      "# List of callables that know how to import templates from various sources.\n",
      "TEMPLATE_LOADERS = (\n",
      "    'django.template.loaders.filesystem.Loader',\n",
      "    'django.template.loaders.app_directories.Loader',\n",
      "#     'django.template.loaders.eggs.Loader',\n",
      ")\n",
      "\n",
      "MIDDLEWARE_CLASSES = (\n",
      "    'django.middleware.common.CommonMiddleware',\n",
      "    'django.contrib.sessions.middleware.SessionMiddleware',\n",
      "    'django.middleware.csrf.CsrfViewMiddleware',\n",
      "    'django.contrib.auth.middleware.AuthenticationMiddleware',\n",
      "    'django.contrib.messages.middleware.MessageMiddleware',\n",
      "    # Uncomment the next line for simple clickjacking protection:\n",
      "    # 'django.middleware.clickjacking.XFrameOptionsMiddleware',\n",
      ")\n",
      "\n",
      "ROOT_URLCONF = 'mysite.urls'\n",
      "\n",
      "# Python dotted path to the WSGI application used by Django's runserver.\n",
      "WSGI_APPLICATION = 'mysite.wsgi.application'\n",
      "\n",
      "TEMPLATE_DIRS = (\n",
      "    # Put strings here, like \"/home/html/django_templates\" or \"C:/www/django/templates\".\n",
      "    # Always use forward slashes, even on Windows.\n",
      "    # Don't forget to use absolute paths, not relative paths.\n",
      ")\n",
      "\n",
      "INSTALLED_APPS = (\n",
      "    'django.contrib.auth',\n",
      "    'django.contrib.contenttypes',\n",
      "    'django.contrib.sessions',\n",
      "    'django.contrib.sites',\n",
      "    'django.contrib.messages',\n",
      "    'django.contrib.staticfiles',\n",
      "    # Uncomment the next line to enable the admin:\n",
      "    # 'django.contrib.admin',\n",
      "    # Uncomment the next line to enable admin documentation:\n",
      "    # 'django.contrib.admindocs',\n",
      ")\n",
      "\n",
      "# A sample logging configuration. The only tangible logging\n",
      "# performed by this configuration is to send an email to\n",
      "# the site admins on every HTTP 500 error when DEBUG=False.\n",
      "# See http://docs.djangoproject.com/en/dev/topics/logging for\n",
      "# more details on how to customize your logging configuration.\n",
      "LOGGING = {\n",
      "    'version': 1,\n",
      "    'disable_existing_loggers': False,\n",
      "    'filters': {\n",
      "        'require_debug_false': {\n",
      "            '()': 'django.utils.log.RequireDebugFalse'\n",
      "        }\n",
      "    },\n",
      "    'handlers': {\n",
      "        'mail_admins': {\n",
      "            'level': 'ERROR',\n",
      "            'filters': ['require_debug_false'],\n",
      "            'class': 'django.utils.log.AdminEmailHandler'\n",
      "        }\n",
      "    },\n",
      "    'loggers': {\n",
      "        'django.request': {\n",
      "            'handlers': ['mail_admins'],\n",
      "            'level': 'ERROR',\n",
      "            'propagate': True,\n",
      "        },\n",
      "    }\n",
      "}\n"
     ],
     "language": "python",
     "metadata": {},
     "outputs": [
      {
       "output_type": "stream",
       "stream": "stdout",
       "text": [
        "Overwriting settings.py\n"
       ]
      }
     ],
     "prompt_number": 51
    },
    {
     "cell_type": "markdown",
     "metadata": {},
     "source": [
      "While you\u2019re editing `settings.py`, take note of the `INSTALLED_APPS` setting towards the bottom of the file. That variable holds the names of all Django applications that are activated in this Django instance. Apps can be used in multiple projects, and you can package and distribute them for use by others in their projects.\n",
      "\n",
      "By default, `INSTALLED_APPS` contains the following apps, all of which come with Django:\n",
      "\n",
      "* django.contrib.auth \u2013 An authentication system.\n",
      "* django.contrib.contenttypes \u2013 A framework for content types.\n",
      "* django.contrib.sessions \u2013 A session framework.\n",
      "* django.contrib.sites \u2013 A framework for managing multiple sites with one Django installation.\n",
      "* django.contrib.messages \u2013 A messaging framework.\n",
      "* These applications are included by default as a convenience for the common case.\n",
      "\n",
      "Each of these applications makes use of at least one database table, though, so we need to create the tables in the database before we can use them. To do that, run the following command:\n",
      "\n",
      "    python manage.py syncdb\n",
      "\n",
      "The syncdb command looks at the INSTALLED_APPS setting and creates any necessary database tables according to the database settings in your settings.py file. You\u2019ll see a message for each database table it creates, and you\u2019ll get a prompt asking you if you\u2019d like to create a superuser account for the authentication system. Go ahead and do that.\n",
      "\n",
      "If you\u2019re interested, run the command-line client for your database and type \\dt (PostgreSQL), SHOW TABLES; (MySQL), or .schema (SQLite) to display the tables Django created."
     ]
    },
    {
     "cell_type": "code",
     "collapsed": false,
     "input": [
      "cd .."
     ],
     "language": "python",
     "metadata": {},
     "outputs": [
      {
       "output_type": "stream",
       "stream": "stdout",
       "text": [
        "C:\\Users\\Andrew\\Documents\\Kaggle\\tutorial\\django_tut\\mysite\n"
       ]
      }
     ],
     "prompt_number": 52
    },
    {
     "cell_type": "code",
     "collapsed": false,
     "input": [
      "!python manage.py syncdb"
     ],
     "language": "python",
     "metadata": {},
     "outputs": [
      {
       "output_type": "stream",
       "stream": "stderr",
       "text": [
        "OperationalError: unable to open database file\n"
       ]
      }
     ],
     "prompt_number": 53
    },
    {
     "cell_type": "markdown",
     "metadata": {},
     "source": [
      "###Creating a New Application"
     ]
    },
    {
     "cell_type": "code",
     "collapsed": false,
     "input": [
      "#Uncomment to run for the first time, to create your first app hello_world\n",
      "#!manage.py startapp hello_world"
     ],
     "language": "python",
     "metadata": {},
     "outputs": [],
     "prompt_number": 11
    },
    {
     "cell_type": "markdown",
     "metadata": {},
     "source": [
      "###Add our new hello_world app to our site, by adding it to the installed_apps in tutorial project settings.py file"
     ]
    },
    {
     "cell_type": "markdown",
     "metadata": {},
     "source": []
    },
    {
     "cell_type": "code",
     "collapsed": false,
     "input": [
      "# save and overwrite the file. After you add Hello_world to the installed_apps method, execute the cell and it will save by using the code below. \n",
      "%%writefile settings.py\n",
      "\n",
      "# Django settings for mysite project.\n",
      "\n",
      "DEBUG = True\n",
      "TEMPLATE_DEBUG = DEBUG\n",
      "\n",
      "ADMINS = (\n",
      "    # ('Your Name', 'your_email@example.com'),\n",
      ")\n",
      "\n",
      "MANAGERS = ADMINS\n",
      "\n",
      "DATABASES = {\n",
      "    'default': {\n",
      "        'ENGINE': 'django.db.backends.', # Add 'postgresql_psycopg2', 'mysql', 'sqlite3' or 'oracle'.\n",
      "        'NAME': '',                      # Or path to database file if using sqlite3.\n",
      "        # The following settings are not used with sqlite3:\n",
      "        'USER': '',\n",
      "        'PASSWORD': '',\n",
      "        'HOST': '',                      # Empty for localhost through domain sockets or '127.0.0.1' for localhost through TCP.\n",
      "        'PORT': '',                      # Set to empty string for default.\n",
      "    }\n",
      "}\n",
      "\n",
      "# Hosts/domain names that are valid for this site; required if DEBUG is False\n",
      "# See https://docs.djangoproject.com/en/1.5/ref/settings/#allowed-hosts\n",
      "ALLOWED_HOSTS = []\n",
      "\n",
      "# Local time zone for this installation. Choices can be found here:\n",
      "# http://en.wikipedia.org/wiki/List_of_tz_zones_by_name\n",
      "# although not all choices may be available on all operating systems.\n",
      "# In a Windows environment this must be set to your system time zone.\n",
      "TIME_ZONE = 'America/Chicago'\n",
      "\n",
      "# Language code for this installation. All choices can be found here:\n",
      "# http://www.i18nguy.com/unicode/language-identifiers.html\n",
      "LANGUAGE_CODE = 'en-us'\n",
      "\n",
      "SITE_ID = 1\n",
      "\n",
      "# If you set this to False, Django will make some optimizations so as not\n",
      "# to load the internationalization machinery.\n",
      "USE_I18N = True\n",
      "\n",
      "# If you set this to False, Django will not format dates, numbers and\n",
      "# calendars according to the current locale.\n",
      "USE_L10N = True\n",
      "\n",
      "# If you set this to False, Django will not use timezone-aware datetimes.\n",
      "USE_TZ = True\n",
      "\n",
      "# Absolute filesystem path to the directory that will hold user-uploaded files.\n",
      "# Example: \"/var/www/example.com/media/\"\n",
      "MEDIA_ROOT = ''\n",
      "\n",
      "# URL that handles the media served from MEDIA_ROOT. Make sure to use a\n",
      "# trailing slash.\n",
      "# Examples: \"http://example.com/media/\", \"http://media.example.com/\"\n",
      "MEDIA_URL = ''\n",
      "\n",
      "# Absolute path to the directory static files should be collected to.\n",
      "# Don't put anything in this directory yourself; store your static files\n",
      "# in apps' \"static/\" subdirectories and in STATICFILES_DIRS.\n",
      "# Example: \"/var/www/example.com/static/\"\n",
      "STATIC_ROOT = ''\n",
      "\n",
      "# URL prefix for static files.\n",
      "# Example: \"http://example.com/static/\", \"http://static.example.com/\"\n",
      "STATIC_URL = '/static/'\n",
      "\n",
      "# Additional locations of static files\n",
      "STATICFILES_DIRS = (\n",
      "    # Put strings here, like \"/home/html/static\" or \"C:/www/django/static\".\n",
      "    # Always use forward slashes, even on Windows.\n",
      "    # Don't forget to use absolute paths, not relative paths.\n",
      ")\n",
      "\n",
      "# List of finder classes that know how to find static files in\n",
      "# various locations.\n",
      "STATICFILES_FINDERS = (\n",
      "    'django.contrib.staticfiles.finders.FileSystemFinder',\n",
      "    'django.contrib.staticfiles.finders.AppDirectoriesFinder',\n",
      "#    'django.contrib.staticfiles.finders.DefaultStorageFinder',\n",
      ")\n",
      "\n",
      "# Make this unique, and don't share it with anybody.\n",
      "SECRET_KEY = 'x&0!-(kxytngyi%d1190w18^6!vmsdfsob6oswzl^hj9qcv0ux'\n",
      "\n",
      "# List of callables that know how to import templates from various sources.\n",
      "TEMPLATE_LOADERS = (\n",
      "    'django.template.loaders.filesystem.Loader',\n",
      "    'django.template.loaders.app_directories.Loader',\n",
      "#     'django.template.loaders.eggs.Loader',\n",
      ")\n",
      "\n",
      "MIDDLEWARE_CLASSES = (\n",
      "    'django.middleware.common.CommonMiddleware',\n",
      "    'django.contrib.sessions.middleware.SessionMiddleware',\n",
      "    'django.middleware.csrf.CsrfViewMiddleware',\n",
      "    'django.contrib.auth.middleware.AuthenticationMiddleware',\n",
      "    'django.contrib.messages.middleware.MessageMiddleware',\n",
      "    # Uncomment the next line for simple clickjacking protection:\n",
      "    # 'django.middleware.clickjacking.XFrameOptionsMiddleware',\n",
      ")\n",
      "\n",
      "ROOT_URLCONF = 'mysite.urls'\n",
      "\n",
      "# Python dotted path to the WSGI application used by Django's runserver.\n",
      "WSGI_APPLICATION = 'mysite.wsgi.application'\n",
      "\n",
      "TEMPLATE_DIRS = (\n",
      "    # Put strings here, like \"/home/html/django_templates\" or \"C:/www/django/templates\".\n",
      "    # Always use forward slashes, even on Windows.\n",
      "    # Don't forget to use absolute paths, not relative paths.\n",
      ")\n",
      "\n",
      "INSTALLED_APPS = (\n",
      "    'django.contrib.auth',\n",
      "    'django.contrib.contenttypes',\n",
      "    'django.contrib.sessions',\n",
      "    'django.contrib.sites',\n",
      "    'django.contrib.messages',\n",
      "    'django.contrib.staticfiles',\n",
      "    'django.contrib.hello_world',                                                 #<--- here is our new added app!!!!!!!!!!!\n",
      "    # Uncomment the next line to enable the admin:\n",
      "    # 'django.contrib.admin',\n",
      "    # Uncomment the next line to enable admin documentation:\n",
      "    # 'django.contrib.admindocs',\n",
      ")\n",
      "\n",
      "# A sample logging configuration. The only tangible logging\n",
      "# performed by this configuration is to send an email to\n",
      "# the site admins on every HTTP 500 error when DEBUG=False.\n",
      "# See http://docs.djangoproject.com/en/dev/topics/logging for\n",
      "# more details on how to customize your logging configuration.\n",
      "LOGGING = {\n",
      "    'version': 1,\n",
      "    'disable_existing_loggers': False,\n",
      "    'filters': {\n",
      "        'require_debug_false': {\n",
      "            '()': 'django.utils.log.RequireDebugFalse'\n",
      "        }\n",
      "    },\n",
      "    'handlers': {\n",
      "        'mail_admins': {\n",
      "            'level': 'ERROR',\n",
      "            'filters': ['require_debug_false'],\n",
      "            'class': 'django.utils.log.AdminEmailHandler'\n",
      "        }\n",
      "    },\n",
      "    'loggers': {\n",
      "        'django.request': {\n",
      "            'handlers': ['mail_admins'],\n",
      "            'level': 'ERROR',\n",
      "            'propagate': True,\n",
      "        },\n",
      "    }\n",
      "}\n",
      "\n"
     ],
     "language": "python",
     "metadata": {},
     "outputs": [
      {
       "output_type": "stream",
       "stream": "stdout",
       "text": [
        "Overwriting settings.py\n"
       ]
      }
     ],
     "prompt_number": 52
    },
    {
     "cell_type": "markdown",
     "metadata": {},
     "source": [
      "### Check the dev server at [http://127.0.0.1:8000/](http://127.0.0.1:8000/) again to make sure we installed the app correctly.\n",
      "\n",
      "If it runs, we did it!"
     ]
    },
    {
     "cell_type": "code",
     "collapsed": false,
     "input": [
      "dev_server.start()"
     ],
     "language": "python",
     "metadata": {},
     "outputs": [
      {
       "output_type": "stream",
       "stream": "stdout",
       "text": [
        "Im running!\n"
       ]
      }
     ],
     "prompt_number": 53
    },
    {
     "cell_type": "markdown",
     "metadata": {},
     "source": [
      "###Add our new app's url's to our tutorial project:"
     ]
    },
    {
     "cell_type": "code",
     "collapsed": false,
     "input": [
      "%%writefile urls.py\n",
      "from django.conf.urls.defaults import patterns, include, url\n",
      "# Uncomment the next two lines to enable the admin:\n",
      "# from django.contrib import admin\n",
      "# admin.autodiscover()\n",
      "urlpatterns = patterns( '' ,\n",
      "                        url(r '^hello_world/' , include( 'tutorial.hello_world.urls' )),\n",
      "                        url(r '^$' ,  'tutorial.hello_world.views.welcome' ,name= 'hello_world-welcome' ),\n",
      "\t\t\t\t\t\t#url(r'^(?P<name>.[^/]+)/(?P<age>\\d+)/$', 'welcome', name='hello_world-welcome-name-age'),\n",
      "\n",
      "\t\t\t\t\t\t    # Examples:\n",
      "\t\t\t\t\t\t    # url(r'^$', 'tutorial.views.home', name='home'),\n",
      "\t\t\t\t\t\t    # url(r'^tutorial/', include('tutorial.foo.urls')),\n",
      "\n",
      "\t\t\t\t\t\t    # Uncomment the admin/doc line below to enable admin documentation:\n",
      "\t\t\t\t\t\t    # url(r'^admin/doc/', include('django.contrib.admindocs.urls')),\n",
      "\n",
      "\t\t\t\t\t\t    # Uncomment the next line to enable the admin:\n",
      "\t\t\t\t\t\t    # url(r'^admin/', include(admin.site.urls)),\n",
      "\t\t\t\t\t\t)\n"
     ],
     "language": "python",
     "metadata": {},
     "outputs": [
      {
       "output_type": "stream",
       "stream": "stdout",
       "text": [
        "Overwriting urls.py\n"
       ]
      }
     ],
     "prompt_number": 54
    },
    {
     "cell_type": "markdown",
     "metadata": {},
     "source": [
      "Create a new view in our Hello_World App"
     ]
    },
    {
     "cell_type": "code",
     "collapsed": false,
     "input": [
      "cd hello_world"
     ],
     "language": "python",
     "metadata": {},
     "outputs": [
      {
       "output_type": "stream",
       "stream": "stdout",
       "text": [
        "C:\\Users\\Andrew\\Documents\\Kaggle\\tutorial\\django_tut\\tutorial\\hello_world\n"
       ]
      }
     ],
     "prompt_number": 59
    },
    {
     "cell_type": "code",
     "collapsed": false,
     "input": [
      "ls"
     ],
     "language": "python",
     "metadata": {},
     "outputs": [
      {
       "output_type": "stream",
       "stream": "stdout",
       "text": [
        " Volume in drive C is OS\n",
        " Volume Serial Number is EA4A-2994\n",
        "\n",
        " Directory of C:\\Users\\Andrew\\Documents\\Kaggle\\tutorial\\django_tut\\tutorial\\hello_world\n",
        "\n",
        "06/11/2013  03:53 PM    <DIR>          .\n",
        "06/11/2013  03:53 PM    <DIR>          ..\n",
        "06/10/2013  04:50 PM                 0 __init__.py\n",
        "06/11/2013  03:51 PM               172 __init__.pyc\n",
        "06/10/2013  04:50 PM                57 models.py\n",
        "06/10/2013  04:50 PM               383 tests.py\n",
        "06/11/2013  03:53 PM               844 views.py\n",
        "06/11/2013  03:53 PM             1,013 views.pyc\n",
        "               6 File(s)          2,469 bytes\n",
        "               2 Dir(s)  770,251,948,032 bytes free\n"
       ]
      }
     ],
     "prompt_number": 60
    },
    {
     "cell_type": "markdown",
     "metadata": {},
     "source": [
      "###Open the views.py file, show below, and create our hello_world view:"
     ]
    },
    {
     "cell_type": "code",
     "collapsed": false,
     "input": [
      "%%writefile test.py\n",
      "#Iam a test"
     ],
     "language": "python",
     "metadata": {},
     "outputs": [
      {
       "output_type": "stream",
       "stream": "stdout",
       "text": [
        "Writing test.py\n"
       ]
      }
     ],
     "prompt_number": 61
    },
    {
     "cell_type": "code",
     "collapsed": false,
     "input": [
      "%%writefile views.py\n",
      "# Create your views here.\n",
      "from django.http import HttpResponse, HttpResponseForbidden\n",
      "    def  welcome(request, name=None, age=None):\n",
      "        if name:\n",
      "        # The URL pattern matches only numbers, so we're not handling the\n",
      "        # ValueError that might happen if age isn't a numeric value.\n",
      "            if not age or int(age) < 18:\n",
      "                return HttpResponseForbidden( 'Grow up!' )\n",
      "            response=HttpResponse()\n",
      "            # Here we treat the response as a file-like object.\n",
      "            response.write( \"Hi %s, are you %s?\" % (name,age,))\n",
      "            # Here we just set a silly header (though a valid HTTP header\n",
      "            # would be just as applicable!)\n",
      "            response[ 'X-python-header' ]= 'That parrot is definitely dead.'\n",
      "            return response\n",
      "        else:\n",
      "            # Here we pass it a string\n",
      "            return HttpResponse( 'Hello!' )\n",
      "            # Here we pass it a generator (just as an example)\n",
      "            return HttpResponse(( '<br>%d' % (i) for i in xrange(1,1000)))"
     ],
     "language": "python",
     "metadata": {},
     "outputs": [
      {
       "output_type": "stream",
       "stream": "stdout",
       "text": [
        "Overwriting views.py\n"
       ]
      }
     ],
     "prompt_number": 62
    },
    {
     "cell_type": "markdown",
     "metadata": {},
     "source": [
      "Check out our new view by using !manage.py runserver and going to http://127.0.0.1:8000/"
     ]
    },
    {
     "cell_type": "markdown",
     "metadata": {},
     "source": [
      "###Template Basics:"
     ]
    },
    {
     "cell_type": "code",
     "collapsed": false,
     "input": [
      "cd .. "
     ],
     "language": "python",
     "metadata": {},
     "outputs": [
      {
       "output_type": "stream",
       "stream": "stdout",
       "text": [
        " Volume in drive C is OS\n",
        " Volume Serial Number is EA4A-2994\n",
        "\n",
        " Directory of C:\\Users\\Andrew\\Documents\\Kaggle\\tutorial\\django_tut\n",
        "\n",
        "06/19/2013  03:53 PM    <DIR>          .\n",
        "06/19/2013  03:53 PM    <DIR>          ..\n",
        "06/13/2013  05:40 PM    <DIR>          .ipynb_checkpoints\n",
        "06/19/2013  04:15 PM            24,290 django_tut.ipynb\n",
        "06/19/2013  03:36 PM               916 README.md\n",
        "06/19/2013  03:39 PM    <DIR>          tutorial\n",
        "               2 File(s)         25,206 bytes\n",
        "               4 Dir(s)  770,260,766,720 bytes free\n"
       ]
      }
     ],
     "prompt_number": 66
    },
    {
     "cell_type": "code",
     "collapsed": false,
     "input": [],
     "language": "python",
     "metadata": {},
     "outputs": []
    },
    {
     "cell_type": "markdown",
     "metadata": {},
     "source": [
      "###Version Control"
     ]
    },
    {
     "cell_type": "code",
     "collapsed": false,
     "input": [
      "cd C:\\Users\\Andrew\\Documents\\Kaggle\\tutorial\\django_tut"
     ],
     "language": "python",
     "metadata": {},
     "outputs": [
      {
       "output_type": "stream",
       "stream": "stdout",
       "text": [
        "C:\\Users\\Andrew\\Documents\\Kaggle\\tutorial\\django_tut\n"
       ]
      }
     ],
     "prompt_number": 67
    },
    {
     "cell_type": "code",
     "collapsed": false,
     "input": [
      "!git add django_tut-official.ipynb"
     ],
     "language": "python",
     "metadata": {},
     "outputs": [],
     "prompt_number": 68
    },
    {
     "cell_type": "code",
     "collapsed": false,
     "input": [
      "!git commit"
     ],
     "language": "python",
     "metadata": {},
     "outputs": [
      {
       "output_type": "stream",
       "stream": "stdout",
       "text": [
        "[master 430928e] added templates section\n",
        " 1 file changed, 61 insertions(+), 6 deletions(-)\n"
       ]
      }
     ],
     "prompt_number": 69
    },
    {
     "cell_type": "code",
     "collapsed": false,
     "input": [],
     "language": "python",
     "metadata": {},
     "outputs": []
    }
   ],
   "metadata": {}
  }
 ]
}