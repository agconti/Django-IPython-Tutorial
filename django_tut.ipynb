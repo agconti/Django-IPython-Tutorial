{
 "metadata": {
  "name": "django_tut"
 },
 "nbformat": 3,
 "nbformat_minor": 0,
 "worksheets": [
  {
   "cells": [
    {
     "cell_type": "markdown",
     "metadata": {},
     "source": [
      "##Django Interactive Tutorial | by Andrew Conti\n",
      "\n",
      "An interactive tutorial that guides you through creating your first Django project. This notebook goes along with Chander Ganesan's Introduction to Django from Pycon 2012. \n",
      "\n",
      "\n",
      "**Additional materials for the tutorial include:**\n",
      "\n",
      "*  [Overview](https://us.pycon.org/2012/schedule/presentation/327/) of the presentation. \n",
      "*  [Video recording](http://youtu.be/hp5ymCrD9yw) of the presentation.\n",
      "*  Chander Ganesan's [Slides](http://www.otg-nc.com/site_media/pdf/django2012.pdf)\n",
      "\n",
      "*Please click play on the video below and follow along with the slides.  You cannot see what Ganesan is doing in the video so only the audio is useful. It\u2019s helpful to have his dialogue as you move through his tutorial.*\n"
     ]
    },
    {
     "cell_type": "code",
     "collapsed": false,
     "input": [
      "from IPython.display import YouTubeVideo\n",
      "YouTubeVideo('hp5ymCrD9yw')"
     ],
     "language": "python",
     "metadata": {},
     "outputs": [
      {
       "html": [
        "\n",
        "            <iframe\n",
        "                width=\"400\"\n",
        "                height=\"300\"\n",
        "                src=\"http://www.youtube.com/embed/hp5ymCrD9yw\"\n",
        "                frameborder=\"0\"\n",
        "                allowfullscreen\n",
        "            ></iframe>\n",
        "        "
       ],
       "output_type": "pyout",
       "prompt_number": 1,
       "text": [
        "<IPython.lib.display.YouTubeVideo at 0x755cc18>"
       ]
      }
     ],
     "prompt_number": 1
    },
    {
     "cell_type": "markdown",
     "metadata": {},
     "source": [
      "First make sure you have Django Installed or install it using `pip install Django`. Test the installation with the code below:"
     ]
    },
    {
     "cell_type": "code",
     "collapsed": false,
     "input": [
      "import django\n",
      "print django.VERSION"
     ],
     "language": "python",
     "metadata": {},
     "outputs": [
      {
       "output_type": "stream",
       "stream": "stdout",
       "text": [
        "(1, 5, 1, 'final', 0)\n"
       ]
      }
     ],
     "prompt_number": 10
    },
    {
     "cell_type": "code",
     "collapsed": false,
     "input": [
      "# uncomment the line below when running for the first time.  \n",
      "#!django-admin.py startproject tutorial"
     ],
     "language": "python",
     "metadata": {},
     "outputs": [],
     "prompt_number": 11
    },
    {
     "cell_type": "code",
     "collapsed": false,
     "input": [
      "cd tutorial/tutorial"
     ],
     "language": "python",
     "metadata": {},
     "outputs": [
      {
       "output_type": "stream",
       "stream": "stdout",
       "text": [
        "[Error 2] The system cannot find the file specified: u'tutorial/tutorial'\n",
        "C:\\Users\\Andrew\\Documents\\Kaggle\\tutorial\\django_tut\\tutorial\n"
       ]
      }
     ],
     "prompt_number": 14
    },
    {
     "cell_type": "code",
     "collapsed": false,
     "input": [
      "ls"
     ],
     "language": "python",
     "metadata": {},
     "outputs": [
      {
       "output_type": "stream",
       "stream": "stdout",
       "text": [
        " Volume in drive C is OS\n",
        " Volume Serial Number is EA4A-2994\n",
        "\n",
        " Directory of C:\\Users\\Andrew\\Documents\\Kaggle\\tutorial\\django_tut\\tutorial\\tutorial\n",
        "\n",
        "06/10/2013  04:18 PM    <DIR>          .\n",
        "06/10/2013  04:18 PM    <DIR>          ..\n",
        "06/10/2013  04:18 PM                 0 __init__.py\n",
        "06/10/2013  04:18 PM             5,356 settings.py\n",
        "06/10/2013  04:18 PM               562 urls.py\n",
        "06/10/2013  04:18 PM             1,425 wsgi.py\n",
        "               4 File(s)          7,343 bytes\n",
        "               2 Dir(s)  779,054,227,456 bytes free\n"
       ]
      }
     ],
     "prompt_number": 16
    },
    {
     "cell_type": "markdown",
     "metadata": {},
     "source": [
      "'__init__.py' : A file that causes Python to treat the directory as a package.\n",
      "\n",
      "manage.py: A command line utility to communicate with Django.\n",
      "\n",
      "settings.py: Configuration settings for the project.\n",
      "\n",
      "urls.py: URL declarations for the project. The URL's tell Django what to do when certain URL's \n",
      "are put into the browser\n",
      "\n",
      "In the next cell:\n",
      "\n",
      "    !manage.py runserver\n",
      "\n",
      "starts a server that runs on local host [http://127.0.0.1:8000/](http://127.0.0.1:8000/) for development.\n",
      "After clicking this link you should see this server in your browser. Whenever you make changes to your server it will auto restart. supports iterative dev process"
     ]
    },
    {
     "cell_type": "code",
     "collapsed": false,
     "input": [
      "#uncomment the line below to run\n",
      "#!manage.py runserver"
     ],
     "language": "python",
     "metadata": {},
     "outputs": [],
     "prompt_number": "*"
    },
    {
     "cell_type": "code",
     "collapsed": false,
     "input": [
      "# stop kernel and allow us to continue\n",
      "#!^C"
     ],
     "language": "python",
     "metadata": {},
     "outputs": [],
     "prompt_number": "*"
    },
    {
     "cell_type": "markdown",
     "metadata": {},
     "source": [
      "###Creating a New Application"
     ]
    },
    {
     "cell_type": "code",
     "collapsed": false,
     "input": [
      "cd .."
     ],
     "language": "python",
     "metadata": {},
     "outputs": [
      {
       "output_type": "stream",
       "stream": "stdout",
       "text": [
        "C:\\Users\\Andrew\\Documents\\Kaggle\\tutorial\\django_tut\\tutorial\n"
       ]
      }
     ],
     "prompt_number": 16
    },
    {
     "cell_type": "code",
     "collapsed": false,
     "input": [
      "#Uncomment to run for the first time, to create your first app hello_world\n",
      "#!manage.py startapp hello_world"
     ],
     "language": "python",
     "metadata": {},
     "outputs": [],
     "prompt_number": 19
    },
    {
     "cell_type": "code",
     "collapsed": false,
     "input": [
      "ls"
     ],
     "language": "python",
     "metadata": {},
     "outputs": [
      {
       "output_type": "stream",
       "stream": "stdout",
       "text": [
        " Volume in drive C is OS\n",
        " Volume Serial Number is EA4A-2994\n",
        "\n",
        " Directory of C:\\Users\\Andrew\\Documents\\Kaggle\\tutorial\\django_tut\\tutorial\n",
        "\n",
        "06/10/2013  04:50 PM    <DIR>          .\n",
        "06/10/2013  04:50 PM    <DIR>          ..\n",
        "06/10/2013  04:50 PM    <DIR>          hello_world\n",
        "06/10/2013  04:18 PM               251 manage.py\n",
        "06/10/2013  04:25 PM    <DIR>          tutorial\n",
        "               1 File(s)            251 bytes\n",
        "               4 Dir(s)  779,049,091,072 bytes free\n"
       ]
      }
     ],
     "prompt_number": 20
    },
    {
     "cell_type": "code",
     "collapsed": false,
     "input": [
      "cd tutorial/"
     ],
     "language": "python",
     "metadata": {},
     "outputs": [
      {
       "output_type": "stream",
       "stream": "stdout",
       "text": [
        "C:\\Users\\Andrew\\Documents\\Kaggle\\tutorial\\django_tut\\tutorial\\tutorial\n"
       ]
      }
     ],
     "prompt_number": 25
    },
    {
     "cell_type": "code",
     "collapsed": false,
     "input": [
      "ls"
     ],
     "language": "python",
     "metadata": {},
     "outputs": [
      {
       "output_type": "stream",
       "stream": "stdout",
       "text": [
        " Volume in drive C is OS\n",
        " Volume Serial Number is EA4A-2994\n",
        "\n",
        " Directory of C:\\Users\\Andrew\\Documents\\Kaggle\\tutorial\\django_tut\\tutorial\\tutorial\n",
        "\n",
        "06/10/2013  04:25 PM    <DIR>          .\n",
        "06/10/2013  04:25 PM    <DIR>          ..\n",
        "06/10/2013  04:18 PM                 0 __init__.py\n",
        "06/10/2013  04:23 PM               169 __init__.pyc\n",
        "06/10/2013  04:18 PM             5,356 settings.py\n",
        "06/10/2013  04:23 PM             2,884 settings.pyc\n",
        "06/10/2013  04:18 PM               562 urls.py\n",
        "06/10/2013  04:25 PM               307 urls.pyc\n",
        "06/10/2013  04:18 PM             1,425 wsgi.py\n",
        "06/10/2013  04:23 PM             1,067 wsgi.pyc\n",
        "               8 File(s)         11,770 bytes\n",
        "               2 Dir(s)  779,049,664,512 bytes free\n"
       ]
      }
     ],
     "prompt_number": 26
    },
    {
     "cell_type": "markdown",
     "metadata": {},
     "source": [
      "###Add hello world to mysites app to installed_apps in mysites settings.py file"
     ]
    },
    {
     "cell_type": "code",
     "collapsed": false,
     "input": [
      "# Django settings for mysite project.\n",
      "\n",
      "DEBUG = True\n",
      "TEMPLATE_DEBUG = DEBUG\n",
      "\n",
      "ADMINS = (\n",
      "    # ('Your Name', 'your_email@example.com'),\n",
      ")\n",
      "\n",
      "MANAGERS = ADMINS\n",
      "\n",
      "DATABASES = {\n",
      "    'default': {\n",
      "        'ENGINE': 'django.db.backends.', # Add 'postgresql_psycopg2', 'mysql', 'sqlite3' or 'oracle'.\n",
      "        'NAME': '',                      # Or path to database file if using sqlite3.\n",
      "        # The following settings are not used with sqlite3:\n",
      "        'USER': '',\n",
      "        'PASSWORD': '',\n",
      "        'HOST': '',                      # Empty for localhost through domain sockets or '127.0.0.1' for localhost through TCP.\n",
      "        'PORT': '',                      # Set to empty string for default.\n",
      "    }\n",
      "}\n",
      "\n",
      "# Hosts/domain names that are valid for this site; required if DEBUG is False\n",
      "# See https://docs.djangoproject.com/en/1.5/ref/settings/#allowed-hosts\n",
      "ALLOWED_HOSTS = []\n",
      "\n",
      "# Local time zone for this installation. Choices can be found here:\n",
      "# http://en.wikipedia.org/wiki/List_of_tz_zones_by_name\n",
      "# although not all choices may be available on all operating systems.\n",
      "# In a Windows environment this must be set to your system time zone.\n",
      "TIME_ZONE = 'America/Chicago'\n",
      "\n",
      "# Language code for this installation. All choices can be found here:\n",
      "# http://www.i18nguy.com/unicode/language-identifiers.html\n",
      "LANGUAGE_CODE = 'en-us'\n",
      "\n",
      "SITE_ID = 1\n",
      "\n",
      "# If you set this to False, Django will make some optimizations so as not\n",
      "# to load the internationalization machinery.\n",
      "USE_I18N = True\n",
      "\n",
      "# If you set this to False, Django will not format dates, numbers and\n",
      "# calendars according to the current locale.\n",
      "USE_L10N = True\n",
      "\n",
      "# If you set this to False, Django will not use timezone-aware datetimes.\n",
      "USE_TZ = True\n",
      "\n",
      "# Absolute filesystem path to the directory that will hold user-uploaded files.\n",
      "# Example: \"/var/www/example.com/media/\"\n",
      "MEDIA_ROOT = ''\n",
      "\n",
      "# URL that handles the media served from MEDIA_ROOT. Make sure to use a\n",
      "# trailing slash.\n",
      "# Examples: \"http://example.com/media/\", \"http://media.example.com/\"\n",
      "MEDIA_URL = ''\n",
      "\n",
      "# Absolute path to the directory static files should be collected to.\n",
      "# Don't put anything in this directory yourself; store your static files\n",
      "# in apps' \"static/\" subdirectories and in STATICFILES_DIRS.\n",
      "# Example: \"/var/www/example.com/static/\"\n",
      "STATIC_ROOT = ''\n",
      "\n",
      "# URL prefix for static files.\n",
      "# Example: \"http://example.com/static/\", \"http://static.example.com/\"\n",
      "STATIC_URL = '/static/'\n",
      "\n",
      "# Additional locations of static files\n",
      "STATICFILES_DIRS = (\n",
      "    # Put strings here, like \"/home/html/static\" or \"C:/www/django/static\".\n",
      "    # Always use forward slashes, even on Windows.\n",
      "    # Don't forget to use absolute paths, not relative paths.\n",
      ")\n",
      "\n",
      "# List of finder classes that know how to find static files in\n",
      "# various locations.\n",
      "STATICFILES_FINDERS = (\n",
      "    'django.contrib.staticfiles.finders.FileSystemFinder',\n",
      "    'django.contrib.staticfiles.finders.AppDirectoriesFinder',\n",
      "#    'django.contrib.staticfiles.finders.DefaultStorageFinder',\n",
      ")\n",
      "\n",
      "# Make this unique, and don't share it with anybody.\n",
      "SECRET_KEY = 'x&0!-(kxytngyi%d1190w18^6!vmsdfsob6oswzl^hj9qcv0ux'\n",
      "\n",
      "# List of callables that know how to import templates from various sources.\n",
      "TEMPLATE_LOADERS = (\n",
      "    'django.template.loaders.filesystem.Loader',\n",
      "    'django.template.loaders.app_directories.Loader',\n",
      "#     'django.template.loaders.eggs.Loader',\n",
      ")\n",
      "\n",
      "MIDDLEWARE_CLASSES = (\n",
      "    'django.middleware.common.CommonMiddleware',\n",
      "    'django.contrib.sessions.middleware.SessionMiddleware',\n",
      "    'django.middleware.csrf.CsrfViewMiddleware',\n",
      "    'django.contrib.auth.middleware.AuthenticationMiddleware',\n",
      "    'django.contrib.messages.middleware.MessageMiddleware',\n",
      "    # Uncomment the next line for simple clickjacking protection:\n",
      "    # 'django.middleware.clickjacking.XFrameOptionsMiddleware',\n",
      ")\n",
      "\n",
      "ROOT_URLCONF = 'mysite.urls'\n",
      "\n",
      "# Python dotted path to the WSGI application used by Django's runserver.\n",
      "WSGI_APPLICATION = 'mysite.wsgi.application'\n",
      "\n",
      "TEMPLATE_DIRS = (\n",
      "    # Put strings here, like \"/home/html/django_templates\" or \"C:/www/django/templates\".\n",
      "    # Always use forward slashes, even on Windows.\n",
      "    # Don't forget to use absolute paths, not relative paths.\n",
      ")\n",
      "\n",
      "INSTALLED_APPS = (\n",
      "    'django.contrib.auth',\n",
      "    'django.contrib.contenttypes',\n",
      "    'django.contrib.sessions',\n",
      "    'django.contrib.sites',\n",
      "    'django.contrib.messages',\n",
      "    'django.contrib.staticfiles',\n",
      "    'hello_world', #<--- here is our new added app!\n",
      "    # Uncomment the next line to enable the admin:\n",
      "    # 'django.contrib.admin',\n",
      "    # Uncomment the next line to enable admin documentation:\n",
      "    # 'django.contrib.admindocs',\n",
      ")\n",
      "\n",
      "# A sample logging configuration. The only tangible logging\n",
      "# performed by this configuration is to send an email to\n",
      "# the site admins on every HTTP 500 error when DEBUG=False.\n",
      "# See http://docs.djangoproject.com/en/dev/topics/logging for\n",
      "# more details on how to customize your logging configuration.\n",
      "LOGGING = {\n",
      "    'version': 1,\n",
      "    'disable_existing_loggers': False,\n",
      "    'filters': {\n",
      "        'require_debug_false': {\n",
      "            '()': 'django.utils.log.RequireDebugFalse'\n",
      "        }\n",
      "    },\n",
      "    'handlers': {\n",
      "        'mail_admins': {\n",
      "            'level': 'ERROR',\n",
      "            'filters': ['require_debug_false'],\n",
      "            'class': 'django.utils.log.AdminEmailHandler'\n",
      "        }\n",
      "    },\n",
      "    'loggers': {\n",
      "        'django.request': {\n",
      "            'handlers': ['mail_admins'],\n",
      "            'level': 'ERROR',\n",
      "            'propagate': True,\n",
      "        },\n",
      "    }\n",
      "}\n",
      "%save settings.py"
     ],
     "language": "python",
     "metadata": {},
     "outputs": [
      {
       "output_type": "stream",
       "stream": "stdout",
       "text": [
        "File `settings.py` exists. Use `%save -f 'settings.py' -f` to force overwrite\n"
       ]
      }
     ],
     "prompt_number": 39
    },
    {
     "cell_type": "code",
     "collapsed": false,
     "input": [
      "cd .. "
     ],
     "language": "python",
     "metadata": {},
     "outputs": [
      {
       "output_type": "stream",
       "stream": "stdout",
       "text": [
        "C:\\Users\\Andrew\\Documents\\Kaggle\\tutorial\\django_tut\\mysite\n"
       ]
      }
     ],
     "prompt_number": 31
    },
    {
     "cell_type": "code",
     "collapsed": false,
     "input": [
      "cd tutorial/django_tut/tutorial/"
     ],
     "language": "python",
     "metadata": {},
     "outputs": [
      {
       "output_type": "stream",
       "stream": "stdout",
       "text": [
        "C:\\Users\\Andrew\\Documents\\Kaggle\\tutorial\\django_tut\\mysite\n"
       ]
      }
     ],
     "prompt_number": 17
    },
    {
     "cell_type": "code",
     "collapsed": false,
     "input": [
      "#uncomment below to run for the first time\n",
      "#!manage.py runserver"
     ],
     "language": "python",
     "metadata": {},
     "outputs": [],
     "prompt_number": "*"
    },
    {
     "cell_type": "markdown",
     "metadata": {},
     "source": [
      "###Version Control"
     ]
    },
    {
     "cell_type": "code",
     "collapsed": false,
     "input": [
      "cd C:\\Users\\Andrew\\Documents\\Kaggle\\tutorial\\django_tut"
     ],
     "language": "python",
     "metadata": {},
     "outputs": [
      {
       "output_type": "stream",
       "stream": "stdout",
       "text": [
        "C:\\Users\\Andrew\\Documents\\Kaggle\\tutorial\\django_tut\n"
       ]
      }
     ],
     "prompt_number": 40
    },
    {
     "cell_type": "code",
     "collapsed": false,
     "input": [
      "!git add django_tut.ipynb"
     ],
     "language": "python",
     "metadata": {},
     "outputs": [],
     "prompt_number": 41
    },
    {
     "cell_type": "code",
     "collapsed": false,
     "input": [
      "!git commit"
     ],
     "language": "python",
     "metadata": {},
     "outputs": [
      {
       "output_type": "stream",
       "stream": "stdout",
       "text": [
        "[master bd515c4] updated project\n",
        " 1 file changed, 54 insertions(+), 96 deletions(-)\n"
       ]
      }
     ],
     "prompt_number": 42
    },
    {
     "cell_type": "code",
     "collapsed": false,
     "input": [],
     "language": "python",
     "metadata": {},
     "outputs": []
    }
   ],
   "metadata": {}
  }
 ]
}