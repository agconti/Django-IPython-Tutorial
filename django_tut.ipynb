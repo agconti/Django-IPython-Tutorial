{
 "metadata": {
  "name": "django_tut"
 },
 "nbformat": 3,
 "nbformat_minor": 0,
 "worksheets": [
  {
   "cells": [
    {
     "cell_type": "markdown",
     "metadata": {},
     "source": [
      "##Django Interative Tutorial | by Andrew Conti\n",
      "\n",
      "This tutorial is desgined as an a commpanyment to Chander Ganesan's Introduction to Django presentation at the PyCon 2012 conference. \n",
      "\n",
      "\n",
      "**Additonal materials for the tutorial include:**\n",
      "\n",
      "*  [Overview](https://us.pycon.org/2012/schedule/presentation/327/) of the presenation. \n",
      "*  [Video recording](http://youtu.be/hp5ymCrD9yw) of the presenation.\n",
      "*  Chander Ganesan's [Slides](http://www.otg-nc.com/site_media/pdf/django2012.pdf)\n"
     ]
    },
    {
     "cell_type": "markdown",
     "metadata": {},
     "source": [
      "Please click play on the video below and follow along with the slides.  You cannot see what Ganesan is doing in the video so only the audio is useful. Its helpful to have his dialouge as you move through his tutorial."
     ]
    },
    {
     "cell_type": "code",
     "collapsed": false,
     "input": [
      "from IPython.display import YouTubeVideo\n",
      "YouTubeVideo('hp5ymCrD9yw')"
     ],
     "language": "python",
     "metadata": {},
     "outputs": [
      {
       "html": [
        "\n",
        "            <iframe\n",
        "                width=\"400\"\n",
        "                height=\"300\"\n",
        "                src=\"http://www.youtube.com/embed/hp5ymCrD9yw\"\n",
        "                frameborder=\"0\"\n",
        "                allowfullscreen\n",
        "            ></iframe>\n",
        "        "
       ],
       "output_type": "pyout",
       "prompt_number": 7,
       "text": [
        "<IPython.lib.display.YouTubeVideo at 0x53d2e48>"
       ]
      }
     ],
     "prompt_number": 7
    },
    {
     "cell_type": "code",
     "collapsed": false,
     "input": [
      "import django"
     ],
     "language": "python",
     "metadata": {},
     "outputs": [],
     "prompt_number": 1
    },
    {
     "cell_type": "code",
     "collapsed": false,
     "input": [
      "# check to make sure django works \n",
      "print django.VERSION"
     ],
     "language": "python",
     "metadata": {},
     "outputs": [
      {
       "output_type": "stream",
       "stream": "stdout",
       "text": [
        "(1, 5, 1, 'final', 0)\n"
       ]
      }
     ],
     "prompt_number": 2
    },
    {
     "cell_type": "code",
     "collapsed": false,
     "input": [
      "cd ~\\tutorial/django_tut/"
     ],
     "language": "python",
     "metadata": {},
     "outputs": [
      {
       "output_type": "stream",
       "stream": "stdout",
       "text": [
        "C:\\Users\\Andrew\\Documents\\Kaggle\\tutorial\\django_tut\n"
       ]
      }
     ],
     "prompt_number": 3
    },
    {
     "cell_type": "code",
     "collapsed": false,
     "input": [
      "#if text editor pops up. Go to th django-admin py file and click 'opens with' and select  'python' to fix\n",
      "#!django-admin.py startproject mysite"
     ],
     "language": "python",
     "metadata": {},
     "outputs": [],
     "prompt_number": 4
    },
    {
     "cell_type": "code",
     "collapsed": false,
     "input": [
      "cd mysite/"
     ],
     "language": "python",
     "metadata": {},
     "outputs": [
      {
       "output_type": "stream",
       "stream": "stdout",
       "text": [
        "C:\\Users\\Andrew\\Documents\\Kaggle\\tutorial\\django_tut\\mysite\n"
       ]
      }
     ],
     "prompt_number": 5
    },
    {
     "cell_type": "code",
     "collapsed": false,
     "input": [
      "ls"
     ],
     "language": "python",
     "metadata": {},
     "outputs": [
      {
       "output_type": "stream",
       "stream": "stdout",
       "text": [
        " Volume in drive C is OS\n",
        " Volume Serial Number is EA4A-2994\n",
        "\n",
        " Directory of C:\\Users\\Andrew\\Documents\\Kaggle\\tutorial\\django_tut\\mysite\n",
        "\n",
        "06/07/2013  02:30 PM    <DIR>          .\n",
        "06/07/2013  02:30 PM    <DIR>          ..\n",
        "06/07/2013  02:37 PM    <DIR>          hello_world\n",
        "06/07/2013  11:35 AM               249 manage.py\n",
        "06/07/2013  02:37 PM    <DIR>          mysite\n",
        "               1 File(s)            249 bytes\n",
        "               4 Dir(s)  776,716,701,696 bytes free\n"
       ]
      }
     ],
     "prompt_number": 16
    },
    {
     "cell_type": "markdown",
     "metadata": {},
     "source": [
      "mangage.py  cmd util controling cmd interaction with mysite  ( load files, include description (whats it for in doc string))"
     ]
    },
    {
     "cell_type": "code",
     "collapsed": false,
     "input": [
      "cd mysite/"
     ],
     "language": "python",
     "metadata": {},
     "outputs": [
      {
       "output_type": "stream",
       "stream": "stdout",
       "text": [
        "C:\\Users\\Andrew\\Documents\\Kaggle\\tutorial\\django_tut\\mysite\\mysite\n"
       ]
      }
     ],
     "prompt_number": 17
    },
    {
     "cell_type": "code",
     "collapsed": false,
     "input": [
      "ls"
     ],
     "language": "python",
     "metadata": {},
     "outputs": [
      {
       "output_type": "stream",
       "stream": "stdout",
       "text": [
        " Volume in drive C is OS\n",
        " Volume Serial Number is EA4A-2994\n",
        "\n",
        " Directory of C:\\Users\\Andrew\\Documents\\Kaggle\\tutorial\\django_tut\\mysite\\mysite\n",
        "\n",
        "06/07/2013  02:37 PM    <DIR>          .\n",
        "06/07/2013  02:37 PM    <DIR>          ..\n",
        "06/07/2013  11:35 AM                 0 __init__.py\n",
        "06/07/2013  11:37 AM               165 __init__.pyc\n",
        "06/07/2013  02:37 PM             5,369 settings.py\n",
        "06/07/2013  02:37 PM             2,899 settings.pyc\n",
        "06/07/2013  11:35 AM               556 urls.py\n",
        "06/07/2013  02:13 PM               303 urls.pyc\n",
        "06/07/2013  11:35 AM             1,419 wsgi.py\n",
        "06/07/2013  02:12 PM             1,059 wsgi.pyc\n",
        "               8 File(s)         11,770 bytes\n",
        "               2 Dir(s)  776,716,701,696 bytes free\n"
       ]
      }
     ],
     "prompt_number": 18
    },
    {
     "cell_type": "markdown",
     "metadata": {},
     "source": [
      "settings.py describes all of the settings of mysite\n",
      "\n",
      "urls.py declares the urls that mysite uses"
     ]
    },
    {
     "cell_type": "code",
     "collapsed": false,
     "input": [
      "cd .."
     ],
     "language": "python",
     "metadata": {},
     "outputs": [
      {
       "output_type": "stream",
       "stream": "stdout",
       "text": [
        "C:\\Users\\Andrew\\Documents\\Kaggle\\tutorial\\django_tut\\mysite\n"
       ]
      }
     ],
     "prompt_number": 19
    },
    {
     "cell_type": "code",
     "collapsed": false,
     "input": [
      "# starts a server that runs on local host for development\n",
      "# you should see this server in your browser\n",
      "# whenever you make changes to your server it will auto restart. supports iterative dev process\n",
      "!"
     ],
     "language": "python",
     "metadata": {},
     "outputs": [],
     "prompt_number": "*"
    },
    {
     "cell_type": "code",
     "collapsed": false,
     "input": [
      "# stop kernel and allow us to continue\n",
      "!^C"
     ],
     "language": "python",
     "metadata": {},
     "outputs": [],
     "prompt_number": "*"
    },
    {
     "cell_type": "code",
     "collapsed": false,
     "input": [
      "!manage.py startapp hello_world"
     ],
     "language": "python",
     "metadata": {},
     "outputs": [],
     "prompt_number": 10
    },
    {
     "cell_type": "markdown",
     "metadata": {},
     "source": [
      "creates another package called hello_world"
     ]
    },
    {
     "cell_type": "code",
     "collapsed": false,
     "input": [
      "ls"
     ],
     "language": "python",
     "metadata": {},
     "outputs": [
      {
       "output_type": "stream",
       "stream": "stdout",
       "text": [
        " Volume in drive C is OS\n",
        " Volume Serial Number is EA4A-2994\n",
        "\n",
        " Directory of C:\\Users\\Andrew\\Documents\\Kaggle\\tutorial\\django_tut\\mysite\n",
        "\n",
        "06/07/2013  02:30 PM    <DIR>          .\n",
        "06/07/2013  02:30 PM    <DIR>          ..\n",
        "06/07/2013  02:37 PM    <DIR>          hello_world\n",
        "06/07/2013  11:35 AM               249 manage.py\n",
        "06/07/2013  02:37 PM    <DIR>          mysite\n",
        "               1 File(s)            249 bytes\n",
        "               4 Dir(s)  776,716,701,696 bytes free\n"
       ]
      }
     ],
     "prompt_number": 20
    },
    {
     "cell_type": "code",
     "collapsed": false,
     "input": [
      "cd hello_world/"
     ],
     "language": "python",
     "metadata": {},
     "outputs": [
      {
       "output_type": "stream",
       "stream": "stdout",
       "text": [
        "C:\\Users\\Andrew\\Documents\\Kaggle\\tutorial\\django_tut\\mysite\\hello_world\n"
       ]
      }
     ],
     "prompt_number": 21
    },
    {
     "cell_type": "code",
     "collapsed": false,
     "input": [
      "ls"
     ],
     "language": "python",
     "metadata": {},
     "outputs": [
      {
       "output_type": "stream",
       "stream": "stdout",
       "text": [
        " Volume in drive C is OS\n",
        " Volume Serial Number is EA4A-2994\n",
        "\n",
        " Directory of C:\\Users\\Andrew\\Documents\\Kaggle\\tutorial\\django_tut\\mysite\\hello_world\n",
        "\n",
        "06/07/2013  02:37 PM    <DIR>          .\n",
        "06/07/2013  02:37 PM    <DIR>          ..\n",
        "06/07/2013  02:30 PM                 0 __init__.py\n",
        "06/07/2013  02:37 PM               170 __init__.pyc\n",
        "06/07/2013  02:30 PM                57 models.py\n",
        "06/07/2013  02:37 PM               224 models.pyc\n",
        "06/07/2013  02:30 PM               383 tests.py\n",
        "06/07/2013  02:30 PM                26 views.py\n",
        "               6 File(s)            860 bytes\n",
        "               2 Dir(s)  776,716,701,696 bytes free\n"
       ]
      }
     ],
     "prompt_number": 22
    },
    {
     "cell_type": "markdown",
     "metadata": {},
     "source": [
      "add hello world to mysites app to installed_apps in mysites settings.py file"
     ]
    },
    {
     "cell_type": "code",
     "collapsed": false,
     "input": [
      "cd .."
     ],
     "language": "python",
     "metadata": {},
     "outputs": [
      {
       "output_type": "stream",
       "stream": "stdout",
       "text": [
        "C:\\Users\\Andrew\\Documents\\Kaggle\\tutorial\\django_tut\\mysite\n"
       ]
      }
     ],
     "prompt_number": 23
    },
    {
     "cell_type": "code",
     "collapsed": false,
     "input": [
      "cd mysite"
     ],
     "language": "python",
     "metadata": {},
     "outputs": [
      {
       "output_type": "stream",
       "stream": "stdout",
       "text": [
        "C:\\Users\\Andrew\\Documents\\Kaggle\\tutorial\\django_tut\\mysite\\mysite\n"
       ]
      }
     ],
     "prompt_number": 27
    },
    {
     "cell_type": "code",
     "collapsed": false,
     "input": [
      "ls"
     ],
     "language": "python",
     "metadata": {},
     "outputs": [
      {
       "output_type": "stream",
       "stream": "stdout",
       "text": [
        " Volume in drive C is OS\n",
        " Volume Serial Number is EA4A-2994\n",
        "\n",
        " Directory of C:\\Users\\Andrew\\Documents\\Kaggle\\tutorial\\django_tut\\mysite\\mysite\n",
        "\n",
        "06/07/2013  02:37 PM    <DIR>          .\n",
        "06/07/2013  02:37 PM    <DIR>          ..\n",
        "06/07/2013  11:35 AM                 0 __init__.py\n",
        "06/07/2013  11:37 AM               165 __init__.pyc\n",
        "06/07/2013  02:37 PM             5,369 settings.py\n",
        "06/07/2013  02:37 PM             2,899 settings.pyc\n",
        "06/07/2013  11:35 AM               556 urls.py\n",
        "06/07/2013  02:13 PM               303 urls.pyc\n",
        "06/07/2013  11:35 AM             1,419 wsgi.py\n",
        "06/07/2013  02:12 PM             1,059 wsgi.pyc\n",
        "               8 File(s)         11,770 bytes\n",
        "               2 Dir(s)  776,716,701,696 bytes free\n"
       ]
      }
     ],
     "prompt_number": 28
    },
    {
     "cell_type": "code",
     "collapsed": false,
     "input": [
      "%loadpy settings.py"
     ],
     "language": "python",
     "metadata": {},
     "outputs": [],
     "prompt_number": 29
    },
    {
     "cell_type": "code",
     "collapsed": false,
     "input": [
      "# Django settings for mysite project.\n",
      "\n",
      "DEBUG = True\n",
      "TEMPLATE_DEBUG = DEBUG\n",
      "\n",
      "ADMINS = (\n",
      "    # ('Your Name', 'your_email@example.com'),\n",
      ")\n",
      "\n",
      "MANAGERS = ADMINS\n",
      "\n",
      "DATABASES = {\n",
      "    'default': {\n",
      "        'ENGINE': 'django.db.backends.', # Add 'postgresql_psycopg2', 'mysql', 'sqlite3' or 'oracle'.\n",
      "        'NAME': '',                      # Or path to database file if using sqlite3.\n",
      "        # The following settings are not used with sqlite3:\n",
      "        'USER': '',\n",
      "        'PASSWORD': '',\n",
      "        'HOST': '',                      # Empty for localhost through domain sockets or '127.0.0.1' for localhost through TCP.\n",
      "        'PORT': '',                      # Set to empty string for default.\n",
      "    }\n",
      "}\n",
      "\n",
      "# Hosts/domain names that are valid for this site; required if DEBUG is False\n",
      "# See https://docs.djangoproject.com/en/1.5/ref/settings/#allowed-hosts\n",
      "ALLOWED_HOSTS = []\n",
      "\n",
      "# Local time zone for this installation. Choices can be found here:\n",
      "# http://en.wikipedia.org/wiki/List_of_tz_zones_by_name\n",
      "# although not all choices may be available on all operating systems.\n",
      "# In a Windows environment this must be set to your system time zone.\n",
      "TIME_ZONE = 'America/Chicago'\n",
      "\n",
      "# Language code for this installation. All choices can be found here:\n",
      "# http://www.i18nguy.com/unicode/language-identifiers.html\n",
      "LANGUAGE_CODE = 'en-us'\n",
      "\n",
      "SITE_ID = 1\n",
      "\n",
      "# If you set this to False, Django will make some optimizations so as not\n",
      "# to load the internationalization machinery.\n",
      "USE_I18N = True\n",
      "\n",
      "# If you set this to False, Django will not format dates, numbers and\n",
      "# calendars according to the current locale.\n",
      "USE_L10N = True\n",
      "\n",
      "# If you set this to False, Django will not use timezone-aware datetimes.\n",
      "USE_TZ = True\n",
      "\n",
      "# Absolute filesystem path to the directory that will hold user-uploaded files.\n",
      "# Example: \"/var/www/example.com/media/\"\n",
      "MEDIA_ROOT = ''\n",
      "\n",
      "# URL that handles the media served from MEDIA_ROOT. Make sure to use a\n",
      "# trailing slash.\n",
      "# Examples: \"http://example.com/media/\", \"http://media.example.com/\"\n",
      "MEDIA_URL = ''\n",
      "\n",
      "# Absolute path to the directory static files should be collected to.\n",
      "# Don't put anything in this directory yourself; store your static files\n",
      "# in apps' \"static/\" subdirectories and in STATICFILES_DIRS.\n",
      "# Example: \"/var/www/example.com/static/\"\n",
      "STATIC_ROOT = ''\n",
      "\n",
      "# URL prefix for static files.\n",
      "# Example: \"http://example.com/static/\", \"http://static.example.com/\"\n",
      "STATIC_URL = '/static/'\n",
      "\n",
      "# Additional locations of static files\n",
      "STATICFILES_DIRS = (\n",
      "    # Put strings here, like \"/home/html/static\" or \"C:/www/django/static\".\n",
      "    # Always use forward slashes, even on Windows.\n",
      "    # Don't forget to use absolute paths, not relative paths.\n",
      ")\n",
      "\n",
      "# List of finder classes that know how to find static files in\n",
      "# various locations.\n",
      "STATICFILES_FINDERS = (\n",
      "    'django.contrib.staticfiles.finders.FileSystemFinder',\n",
      "    'django.contrib.staticfiles.finders.AppDirectoriesFinder',\n",
      "#    'django.contrib.staticfiles.finders.DefaultStorageFinder',\n",
      ")\n",
      "\n",
      "# Make this unique, and don't share it with anybody.\n",
      "SECRET_KEY = 'x&0!-(kxytngyi%d1190w18^6!vmsdfsob6oswzl^hj9qcv0ux'\n",
      "\n",
      "# List of callables that know how to import templates from various sources.\n",
      "TEMPLATE_LOADERS = (\n",
      "    'django.template.loaders.filesystem.Loader',\n",
      "    'django.template.loaders.app_directories.Loader',\n",
      "#     'django.template.loaders.eggs.Loader',\n",
      ")\n",
      "\n",
      "MIDDLEWARE_CLASSES = (\n",
      "    'django.middleware.common.CommonMiddleware',\n",
      "    'django.contrib.sessions.middleware.SessionMiddleware',\n",
      "    'django.middleware.csrf.CsrfViewMiddleware',\n",
      "    'django.contrib.auth.middleware.AuthenticationMiddleware',\n",
      "    'django.contrib.messages.middleware.MessageMiddleware',\n",
      "    # Uncomment the next line for simple clickjacking protection:\n",
      "    # 'django.middleware.clickjacking.XFrameOptionsMiddleware',\n",
      ")\n",
      "\n",
      "ROOT_URLCONF = 'mysite.urls'\n",
      "\n",
      "# Python dotted path to the WSGI application used by Django's runserver.\n",
      "WSGI_APPLICATION = 'mysite.wsgi.application'\n",
      "\n",
      "TEMPLATE_DIRS = (\n",
      "    # Put strings here, like \"/home/html/django_templates\" or \"C:/www/django/templates\".\n",
      "    # Always use forward slashes, even on Windows.\n",
      "    # Don't forget to use absolute paths, not relative paths.\n",
      ")\n",
      "\n",
      "INSTALLED_APPS = (\n",
      "    'django.contrib.auth',\n",
      "    'django.contrib.contenttypes',\n",
      "    'django.contrib.sessions',\n",
      "    'django.contrib.sites',\n",
      "    'django.contrib.messages',\n",
      "    'django.contrib.staticfiles',\n",
      "    'hello_world', #<--- here is our new added app!\n",
      "    # Uncomment the next line to enable the admin:\n",
      "    # 'django.contrib.admin',\n",
      "    # Uncomment the next line to enable admin documentation:\n",
      "    # 'django.contrib.admindocs',\n",
      ")\n",
      "\n",
      "# A sample logging configuration. The only tangible logging\n",
      "# performed by this configuration is to send an email to\n",
      "# the site admins on every HTTP 500 error when DEBUG=False.\n",
      "# See http://docs.djangoproject.com/en/dev/topics/logging for\n",
      "# more details on how to customize your logging configuration.\n",
      "LOGGING = {\n",
      "    'version': 1,\n",
      "    'disable_existing_loggers': False,\n",
      "    'filters': {\n",
      "        'require_debug_false': {\n",
      "            '()': 'django.utils.log.RequireDebugFalse'\n",
      "        }\n",
      "    },\n",
      "    'handlers': {\n",
      "        'mail_admins': {\n",
      "            'level': 'ERROR',\n",
      "            'filters': ['require_debug_false'],\n",
      "            'class': 'django.utils.log.AdminEmailHandler'\n",
      "        }\n",
      "    },\n",
      "    'loggers': {\n",
      "        'django.request': {\n",
      "            'handlers': ['mail_admins'],\n",
      "            'level': 'ERROR',\n",
      "            'propagate': True,\n",
      "        },\n",
      "    }\n",
      "}\n"
     ],
     "language": "python",
     "metadata": {},
     "outputs": []
    },
    {
     "cell_type": "code",
     "collapsed": false,
     "input": [
      "cd .. "
     ],
     "language": "python",
     "metadata": {},
     "outputs": [
      {
       "output_type": "stream",
       "stream": "stdout",
       "text": [
        "C:\\Users\\Andrew\\Documents\\Kaggle\\tutorial\\django_tut\\mysite\n"
       ]
      }
     ],
     "prompt_number": 31
    },
    {
     "cell_type": "code",
     "collapsed": false,
     "input": [
      "cd tutorial/django_tut/mysite/"
     ],
     "language": "python",
     "metadata": {},
     "outputs": [
      {
       "output_type": "stream",
       "stream": "stdout",
       "text": [
        "C:\\Users\\Andrew\\Documents\\Kaggle\\tutorial\\django_tut\\mysite\n"
       ]
      }
     ],
     "prompt_number": 17
    },
    {
     "cell_type": "code",
     "collapsed": false,
     "input": [
      "!manage.py runserver"
     ],
     "language": "python",
     "metadata": {},
     "outputs": [],
     "prompt_number": "*"
    },
    {
     "cell_type": "markdown",
     "metadata": {},
     "source": [
      "###Version Control"
     ]
    },
    {
     "cell_type": "code",
     "collapsed": false,
     "input": [
      "cd C:\\Users\\Andrew\\Documents\\Kaggle\\tutorial\\django_tut"
     ],
     "language": "python",
     "metadata": {},
     "outputs": [
      {
       "output_type": "stream",
       "stream": "stdout",
       "text": [
        "C:\\Users\\Andrew\\Documents\\Kaggle\\tutorial\\django_tut\n"
       ]
      }
     ],
     "prompt_number": 36
    },
    {
     "cell_type": "code",
     "collapsed": false,
     "input": [
      "!git add django_tut.ipynb"
     ],
     "language": "python",
     "metadata": {},
     "outputs": [
      {
       "output_type": "stream",
       "stream": "stderr",
       "text": [
        "fatal: pathspec 'django_tut/django_tut.ipynb' did not match any files\n"
       ]
      }
     ],
     "prompt_number": 37
    },
    {
     "cell_type": "code",
     "collapsed": false,
     "input": [
      "!git commit"
     ],
     "language": "python",
     "metadata": {},
     "outputs": []
    }
   ],
   "metadata": {}
  }
 ]
}